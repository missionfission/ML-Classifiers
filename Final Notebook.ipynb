{
 "cells": [
  {
   "cell_type": "markdown",
   "metadata": {},
   "source": [
    "1. Bayes Classifier (Gaussian with MLE Estimate)\n",
    "2. Naive Bayes Classifier (Gaussian, Binomial and GMM with MLE Estimate)\n",
    "3. K-means Clustering\n",
    "4. K-Nearest Neighbor Classifier\n",
    "5. Principal component analysis \n"
   ]
  },
  {
   "cell_type": "markdown",
   "metadata": {},
   "source": [
    " ## Bayes Methods Implemented :\n",
    "\n",
    "1. MLE - Done with Gaussian \n",
    "2. Expectation Maximization with GMM \n",
    " \n",
    "## Densities implemented :\n",
    "1. GMM\n",
    "2. Gaussian\n",
    "3. Binomial and Bernoulli"
   ]
  },
  {
   "cell_type": "code",
   "execution_count": 1,
   "metadata": {
    "collapsed": true
   },
   "outputs": [],
   "source": [
    "import json\n",
    "import random\n",
    "import time\n",
    "import math\n",
    "from ast import literal_eval as make_tuple\n",
    "import numpy as np\n",
    "import pandas as pd\n",
    "import psutil\n",
    "from utils import mnist_reader\n",
    "import pdb\n",
    "import matplotlib.pyplot as plt\n",
    "%matplotlib inline"
   ]
  },
  {
   "cell_type": "code",
   "execution_count": 2,
   "metadata": {
    "collapsed": true
   },
   "outputs": [],
   "source": [
    "class multivariate_normal:\n",
    "    def __init__(self,mean,cov):\n",
    "        self.mean=mean\n",
    "        self.cov=cov\n",
    "    def pdf(self,x):\n",
    "        return  (1/(np.power(2* np.pi,self.mean.shape[0]/2)*np.power(np.linalg.det(self.cov),0.5))) *np.exp (-0.5 * (np.linalg.multi_dot([(x - self.mean) , (np.linalg.inv(self.cov)), (x - self.mean).T])))\n",
    "    "
   ]
  },
  {
   "cell_type": "code",
   "execution_count": 3,
   "metadata": {
    "collapsed": true
   },
   "outputs": [],
   "source": [
    "def univariate_normal(x,mean,var):\n",
    "    return  (1/(np.power(2* np.pi*var,0.5))) * np.exp(-0.5 * np.array((x- mean)**2/var,dtype='float'))\n",
    "def distance(a, b):\n",
    "    return np.linalg.norm(a-b)"
   ]
  },
  {
   "cell_type": "code",
   "execution_count": 4,
   "metadata": {
    "collapsed": true
   },
   "outputs": [],
   "source": [
    "def binomial(test,prob,m):\n",
    "    return [np.power(prob,x)*np.power(prob,(m-x))*comb(m,x) for x in test]\n",
    "def comb(n,r):\n",
    "    f=math.factorial\n",
    "    return f(n)//f(r)//f(n-r)"
   ]
  },
  {
   "cell_type": "code",
   "execution_count": 5,
   "metadata": {
    "collapsed": true
   },
   "outputs": [],
   "source": [
    "#Bayes Gaussian with MLE Estimate    \n",
    "class GaussianBayes:         \n",
    "    def predict(self,test):\n",
    "        prob_vect = np.zeros((self.n_classes,test.shape[0]))\n",
    "        for i in range(self.n_classes):        \n",
    "            class_cond = multivariate_normal(self.mean[i,:],self.cov[i,:])\n",
    "            prior=self.prior[i]         \n",
    "            for j in range(test.shape[0]):\n",
    "                prob_vect[i,j] = prior*class_cond.pdf(test[j])       \n",
    "        return np.argmax(prob_vect,axis=0)\n",
    "        \n",
    "    def fit(self, train,y):\n",
    "        self.mean = []\n",
    "        self.cov = []\n",
    "        self.n_classes = np.max(y)+1\n",
    "        self.prior = np.zeros(self.n_classes) \n",
    "        for i in range(self.n_classes):\n",
    "            tr_c  = train[y==i]\n",
    "            self.prior[i]=tr_c.shape[0]/train.shape[0]\n",
    "            mean_c = np.mean(tr_c, axis=0)\n",
    "            cov_c=np.cov(tr_c.T.astype(float))\n",
    "            self.mean.append(mean_c)\n",
    "            self.cov.append(cov_c)\n",
    "        self.mean = np.asarray(self.mean)\n",
    "        self.cov = np.asarray(self.cov)        "
   ]
  },
  {
   "cell_type": "code",
   "execution_count": 14,
   "metadata": {},
   "outputs": [
    {
     "ename": "IndentationError",
     "evalue": "expected an indented block (<ipython-input-14-066a68a17916>, line 31)",
     "output_type": "error",
     "traceback": [
      "\u001b[0;36m  File \u001b[0;32m\"<ipython-input-14-066a68a17916>\"\u001b[0;36m, line \u001b[0;32m31\u001b[0m\n\u001b[0;31m    def updateparams(self,train,y):\u001b[0m\n\u001b[0m      ^\u001b[0m\n\u001b[0;31mIndentationError\u001b[0m\u001b[0;31m:\u001b[0m expected an indented block\n"
     ]
    }
   ],
   "source": [
    "#Naive Bayes Implementation of GMM with EM Algorithm\n",
    "class GMM():\n",
    "    def __init__(self,mode):\n",
    "        mean=np.zeros(mode)\n",
    "        var=np.zeros(mode)\n",
    "        ltv = np.identity(ltv)\n",
    "        w = np.tile(z,(int)(Y.size/k) + 1).T\n",
    "        w = w[0:Y.size] \n",
    "        params={'mean':mean,'var':var,'ltv':ltv}\n",
    "        self.mode=mode\n",
    "        self.w=w\n",
    "        self.params=params\n",
    "        \n",
    "    def fit(self, train,y,iter_n=1000,*args):\n",
    "        iterations=0\n",
    "        while (iterations<iter_n):\n",
    "            # E-step \n",
    "            w_old = w_new\n",
    "            self.computew(train)\n",
    "            # new params mean, variance and latent variables\n",
    "            # M-step \n",
    "            self.updateparams(train)   \n",
    "            iterations+=1\n",
    "            \n",
    "    \n",
    "    def computew(self,train):\n",
    "        self.w=\n",
    "    \n",
    "    def updateparams(self,train):\n",
    "        p = np.mean(self.w,axis = 0)\n",
    "        for i in range(k):\n",
    "            self.params['mean'][i]=np.dot(train, self.w[i])/(p[i])\n",
    "            self.params['var'][i]=np.dot(self.w[i],(train-self.params['mean'][i])^2)/p[i]\n",
    "        self.params['ltv']=np.mean(Q,axis=0)\n",
    "        \n",
    "    def pdf(self,test,mean,var,w):\n",
    "        sum1=0\n",
    "        for i in range(k):\n",
    "            sum1+=w[k]*(1/(np.power(2* np.pi*var[k],0.5))) * np.exp(-0.5 * np.array((x- mean[k])**2/var,dtype='float'))  \n",
    "        return sum1"
   ]
  },
  {
   "cell_type": "code",
   "execution_count": null,
   "metadata": {
    "collapsed": true
   },
   "outputs": [],
   "source": [
    "class GMMNB:       \n",
    "    def predict(self,test):\n",
    "        prob_vect = np.zeros((self.n_classes,test.shape[0]))\n",
    "        for i in range(self.n_classes):\n",
    "            class_cond=1\n",
    "            for j in range(self.n_features):\n",
    "                class_cond = class_cond*GMM.pdf(test[:,j],self.mean[i,j], self.var[i,j])\n",
    "            prior=self.prior[i]         \n",
    "            prob_vect[i,:] = prior*class_cond\n",
    "        print(np.argmax(prob_vect,axis=0).shape)\n",
    "        return np.argmax(prob_vect,axis=0)\n",
    "        \n",
    "    def fit(self, train,y,k):\n",
    "        self.n_classes = np.max(y)+1\n",
    "        self.prior = np.zeros(self.n_classes) \n",
    "        self.n_features=train.shape[1]\n",
    "        self.mean = np.zeros((self.n_classes,self.n_features,k))\n",
    "        self.var = np.zeros((self.n_classes,self.n_features,k))\n",
    "        for i in range(self.n_classes):\n",
    "            tr_c  = train[y==i]\n",
    "            self.prior[i]=tr_c.shape[0]/train.shape[0]\n",
    "            for j in range(self.n_features):\n",
    "                gmm=GMM(k)\n",
    "                self.mean[i,j,:], self.var[i,j,:],self.weights[i,j,:]=gmm.fit(tr_c[:,j],y[(y==j)\n",
    "        self.mean = np.asarray(self.mean)\n",
    "        self.var = np.asarray(self.var)   "
   ]
  },
  {
   "cell_type": "code",
   "execution_count": 6,
   "metadata": {
    "collapsed": true
   },
   "outputs": [],
   "source": [
    "# Naive Bayes of Binomial \n",
    "class BinomialNB:\n",
    "    def __init__(self,n_features):\n",
    "        self.n_features=n_features\n",
    "    def predict(self,test):\n",
    "        prob_vect = np.zeros((self.n_classes,test.shape[0]))\n",
    "        for i in range(self.n_classes):\n",
    "            class_cond=1\n",
    "            for j in range(1,self.n_features):\n",
    "                pdb.set_trace()\n",
    "                class_cond = class_cond*binomial(test[:,j],self.prob[i,j],self.m[j])\n",
    "                prior=self.prior[i]         \n",
    "            prob_vect[i,:] = prior*class_cond       \n",
    "        return np.argmax(prob_vect,axis=1)\n",
    "        \n",
    "    def fit(self, train,y):\n",
    "        self.n_classes = np.max(y)+1\n",
    "        self.m=np.max(train,axis=0)\n",
    "        self.prior = np.zeros(self.n_classes) \n",
    "        self.prob=np.zeros((self.n_classes,self.n_features))\n",
    "        for i in range(self.n_classes):\n",
    "            tr_c  = train[y==i]\n",
    "            self.prior[i]=tr_c.shape[0]/train.shape[0]\n",
    "            for j in range(self.n_features):\n",
    "                self.prob[i,j]=np.mean(train[:,j])\n",
    "        "
   ]
  },
  {
   "cell_type": "code",
   "execution_count": 7,
   "metadata": {
    "collapsed": true
   },
   "outputs": [],
   "source": [
    "# Naive Bayes of Gaussian \n",
    "class GaussianNB():\n",
    "    def predict(self,test):\n",
    "        prob_vect = np.zeros((self.n_classes,test.shape[0]))\n",
    "        for i in range(self.n_classes):\n",
    "            class_cond=1\n",
    "            for j in range(self.n_features):\n",
    "                class_cond = class_cond*univariate_normal(test[:,j],self.mean[i,j], self.var[i,j])\n",
    "            prior=self.prior[i]         \n",
    "            prob_vect[i,:] = prior*class_cond\n",
    "#         print(np.argmax(prob_vect,axis=0).shape)\n",
    "        return np.argmax(prob_vect,axis=0)\n",
    "        \n",
    "    def fit(self, train,y):\n",
    "        self.n_classes = np.max(y)+1\n",
    "        self.prior = np.zeros(self.n_classes) \n",
    "        self.n_features=train.shape[1]\n",
    "        self.mean = np.zeros((self.n_classes,self.n_features))\n",
    "        self.var = np.zeros((self.n_classes,self.n_features))\n",
    "        for i in range(self.n_classes):\n",
    "            tr_c  = train[y==i]\n",
    "            self.prior[i]=tr_c.shape[0]/train.shape[0]\n",
    "            for j in range(self.n_features):\n",
    "                self.mean[i,j]= np.mean(tr_c[:,j])\n",
    "                self.var[i,j]=np.var(tr_c[:,j])\n",
    "        self.mean = np.asarray(self.mean)\n",
    "        self.var = np.asarray(self.var)     "
   ]
  },
  {
   "cell_type": "code",
   "execution_count": 8,
   "metadata": {
    "collapsed": true
   },
   "outputs": [],
   "source": [
    "class PCA:\n",
    "    def __init__(self,n_components,*args):\n",
    "        self.n=n_components\n",
    "    def fit_transform(self,X):\n",
    "        return self.fit(X)\n",
    "    def fit(self,copy):\n",
    "        X=copy\n",
    "        self.mean = np.mean(X, axis=0)\n",
    "        X = X-self.mean\n",
    "        C=np.cov(X.T)\n",
    "#         pdb.set_trace()\n",
    "        U, V=np.linalg.eig(C)\n",
    "        self.components=V\n",
    "        return np.dot(X,V)[:,:self.n]\n",
    "   \n",
    "    def transform(self,test):\n",
    "        output = np.dot(test-self.mean, self.components)\n",
    "        return output[:,:self.n]\n",
    "   \n",
    "        "
   ]
  },
  {
   "cell_type": "code",
   "execution_count": 9,
   "metadata": {
    "collapsed": true
   },
   "outputs": [],
   "source": [
    "class KNN:\n",
    "    def __init__(self,k,*args):\n",
    "        self.k=k\n",
    "    def fit(self,train,y):\n",
    "        self.train=train\n",
    "        self.y=y\n",
    "    def predict_one(self,test):\n",
    "        distances=np.sum((self.train-test)**2,axis=1)\n",
    "        sorts = distances.argsort()\n",
    "        targets = np.zeros(self.k)\n",
    "        for i in range(self.k):\n",
    "            idx = sorts[i]\n",
    "            targets[i]=(self.y[idx])\n",
    "        targets=np.array(targets,dtype='int')\n",
    "        return np.argmax(np.bincount(targets))\n",
    "\n",
    "    def predict(self,test):\n",
    "        preds = []\n",
    "        for i in range(test.shape[0]):\n",
    "            preds.append(self.predict_one(test[i,:]))\n",
    "        return preds  "
   ]
  },
  {
   "cell_type": "code",
   "execution_count": 54,
   "metadata": {},
   "outputs": [],
   "source": [
    "class KMeans:\n",
    "    \n",
    "    def __init__(self,k):\n",
    "        self.k=k\n",
    "        \n",
    "    def fit_predict(self,train,epsilon=0.000001,*args):\n",
    "        self.num_features = train.shape[1]\n",
    "        history=[]\n",
    "        self.centers=np.zeros((self.k,self.num_features))\n",
    "        initial = train[:self.k,:]\n",
    "        preds = np.zeros(train.shape[0])\n",
    "        norm = distance(initial,0)\n",
    "        dist_vec=np.zeros(self.k)\n",
    "#         pdb.set_trace()\n",
    "#         print(norm)\n",
    "        iteration = 0\n",
    "        while (norm > epsilon and iteration<500):\n",
    "            iteration += 1\n",
    "            for i in range(train.shape[0]):\n",
    "                for j in range(self.k):\n",
    "                    dist_vec[j] = np.sum((train[i,:]-self.centers[j])**2)\n",
    "#                 print(dist_vec)\n",
    "                preds[i] = np.argmin(dist_vec)\n",
    "            norm=0   \n",
    "            for i in range(self.k):\n",
    "                 if(train[preds==i,:].shape[0]):\n",
    "                    self.centers[i]=np.mean(train[preds==i,:])\n",
    "                    norm += np.sum((train[preds==i,:]-self.centers[i])**2)   \n",
    "#             print(self.centers)\n",
    "#             print(norm)\n",
    "            history.append(self.centers)\n",
    "            iteration+=1\n",
    "        print(norm)\n",
    "        return preds\n",
    "\n",
    "    def predict(self,test):\n",
    "        preds = np.zeros(test.shape[0])\n",
    "        dist_vec=np.zeros(self.k)\n",
    "        for i in range(test.shape[0]):\n",
    "                for j in range(self.k):\n",
    "                    dist_vec[j] = np.sum((test[i,:]-self.centers[j])**2)\n",
    "                preds[i] = np.argmin(dist_vec)\n",
    "        return preds\n",
    "        "
   ]
  },
  {
   "cell_type": "code",
   "execution_count": 11,
   "metadata": {
    "collapsed": true
   },
   "outputs": [],
   "source": [
    "from sklearn.preprocessing import label_binarize\n",
    "from scipy import interp\n",
    "class metrics:\n",
    "    def accuracy(self,y,preds):\n",
    "        return np.sum(y==preds)/y.shape[0]\n",
    "    def scores(self,y,preds):\n",
    "        tp = np.sum(y_true == y_pred)\n",
    "        tp_sum=np.bincount(y_true[tp])\n",
    "        pred_sum=np.bincount(y_pred)\n",
    "        true_sum=np.bincount(y_true)\n",
    "        precision = tp_sum/pred_sum\n",
    "        recall = tp_sum/true_sum\n",
    "        f_score = ((2) * precision * recall /\n",
    "                   (precision + recall))\n",
    "        precision = np.average(precision)\n",
    "        recall = np.average(recall)\n",
    "        f_score = np.average(f_score)\n",
    "\n",
    "        return precision, recall, f_score\n",
    "    \n",
    "    def binary_roc_curve(self,y,probs,ax,label,*args,**kwargs):\n",
    "        y = (y == 1)\n",
    "\n",
    "        desc_score_indices = np.argsort(probs)[::-1]\n",
    "        probs = probs[desc_score_indices]\n",
    "        y = y[desc_score_indices]\n",
    "        distinct_value_indices = np.where(np.diff(probs))[0]\n",
    "        threshold_idxs = np.r_[distinct_value_indices, y_true.size - 1]\n",
    "\n",
    "        tps = stable_cumsum(y)[threshold_idxs]\n",
    "        fps = 1 + threshold_idxs - tps\n",
    "        thresholds=y[threshold_idxs]\n",
    "        optimal_idxs = np.where(np.r_[True,np.logical_or(np.diff(fps, 2),np.diff(tps, 2)),True])[0]\n",
    "        fps = fps[optimal_idxs]\n",
    "        tps = tps[optimal_idxs]\n",
    "        thresholds = thresholds[optimal_idxs]\n",
    "\n",
    "        fpr = fps / fps[-1]\n",
    "        tpr = tps / tps[-1]\n",
    "\n",
    "        return fpr, tpr, thresholds    \n",
    "        \n",
    "    def multiclass_roc_curve(self,y,probabilities,ax,label,*args,**kwargs):\n",
    "        y_test = label_binarize(y_test, classes=np.arange(n_classes))\n",
    "        fpr = dict()\n",
    "        thresholds=dict()\n",
    "        tpr = dict()\n",
    "        roc_auc = dict()\n",
    "        for i in range(n_classes):\n",
    "            fpr[i], tpr[i], _ = self.binary_roc_curve(y_test[:, i], y_score[:, i])\n",
    "        fpr[\"micro\"], tpr[\"micro\"], thresholds[\"micro\"] = roc_curve(y_test.ravel(), y_score.ravel())\n",
    "\n",
    "        all_fpr = np.unique(np.concatenate([fpr[i] for i in range(n_classes)]))\n",
    "\n",
    "        mean_tpr = np.zeros_like(all_fpr)\n",
    "        for i in range(n_classes):\n",
    "            mean_tpr += interp(all_fpr, fpr[i], tpr[i])\n",
    "\n",
    "        mean_tpr /= n_classes\n",
    "\n",
    "        fpr[\"macro\"] = all_fpr\n",
    "        tpr[\"macro\"] = mean_tpr\n",
    "\n",
    "        ax.plot(fpr[\"micro\"], tpr[\"micro\"],label='micro-average ROC curve', linestyle=':', linewidth=4)\n",
    "        ax.plot(fpr[\"macro\"], tpr[\"macro\"],label='macro-average ROC curve', linestyle=':', linewidth=4)\n"
   ]
  },
  {
   "cell_type": "code",
   "execution_count": 12,
   "metadata": {
    "collapsed": true
   },
   "outputs": [],
   "source": [
    "results=metrics()"
   ]
  },
  {
   "cell_type": "markdown",
   "metadata": {},
   "source": [
    "# FASHION-MNIST"
   ]
  },
  {
   "cell_type": "code",
   "execution_count": 95,
   "metadata": {
    "collapsed": true
   },
   "outputs": [],
   "source": [
    "DATA_DIR='data/fashion/'\n",
    "train, y_train = mnist_reader.load_mnist(path=DATA_DIR, kind='train')\n",
    "test, y_test = mnist_reader.load_mnist(path=DATA_DIR, kind='t10k')"
   ]
  },
  {
   "cell_type": "code",
   "execution_count": 96,
   "metadata": {},
   "outputs": [
    {
     "name": "stdout",
     "output_type": "stream",
     "text": [
      "(60000, 784)\n",
      "(60000, 30)\n"
     ]
    }
   ],
   "source": [
    "# from sklearn.decomposition import PCA\n",
    "print(train.shape)\n",
    "pca=PCA(n_components=30)\n",
    "train=pca.fit_transform(train)\n",
    "print(train.shape)\n",
    "test=pca.transform(test)"
   ]
  },
  {
   "cell_type": "code",
   "execution_count": 101,
   "metadata": {},
   "outputs": [
    {
     "name": "stdout",
     "output_type": "stream",
     "text": [
      "(10000, 30)\n"
     ]
    }
   ],
   "source": [
    "print(test.shape)"
   ]
  },
  {
   "cell_type": "code",
   "execution_count": 18,
   "metadata": {},
   "outputs": [
    {
     "name": "stderr",
     "output_type": "stream",
     "text": [
      "/home/khushal/anaconda3/lib/python3.6/site-packages/matplotlib/pyplot.py:523: RuntimeWarning: More than 20 figures have been opened. Figures created through the pyplot interface (`matplotlib.pyplot.figure`) are retained until explicitly closed and may consume too much memory. (To control this warning, see the rcParam `figure.max_open_warning`).\n",
      "  max_open_warning, RuntimeWarning)\n"
     ]
    },
    {
     "data": {
      "image/png": "[encoded data removed]",
      "text/plain": [
       "<matplotlib.figure.Figure at 0x7f1ed5497828>"
      ]
     },
     "metadata": {},
     "output_type": "display_data"
    },
    {
     "data": {
      "image/png": "[encoded data removed]",
      "text/plain": [
       "<matplotlib.figure.Figure at 0x7f1ec9944f98>"
      ]
     },
     "metadata": {},
     "output_type": "display_data"
    },
    {
     "data": {
      "image/png": "[encoded data removed]",
      "text/plain": [
       "<matplotlib.figure.Figure at 0x7f1ec98a9be0>"
      ]
     },
     "metadata": {},
     "output_type": "display_data"
    },
    {
     "data": {
      "image/png": "[encoded data removed]",
      "text/plain": [
       "<matplotlib.figure.Figure at 0x7f1ec9878978>"
      ]
     },
     "metadata": {},
     "output_type": "display_data"
    },
    {
     "data": {
      "image/png": "[encoded data removed]",
      "text/plain": [
       "<matplotlib.figure.Figure at 0x7f1ec9a4e400>"
      ]
     },
     "metadata": {},
     "output_type": "display_data"
    },
    {
     "data": {
      "image/png": "[encoded data removed]",
      "text/plain": [
       "<matplotlib.figure.Figure at 0x7f1ec9798f98>"
      ]
     },
     "metadata": {},
     "output_type": "display_data"
    },
    {
     "data": {
      "image/png": "[encoded data removed]",
      "text/plain": [
       "<matplotlib.figure.Figure at 0x7f1ec97688d0>"
      ]
     },
     "metadata": {},
     "output_type": "display_data"
    },
    {
     "data": {
      "image/png": "[encoded data removed]",
      "text/plain": [
       "<matplotlib.figure.Figure at 0x7f1ec97403c8>"
      ]
     },
     "metadata": {},
     "output_type": "display_data"
    },
    {
     "data": {
      "image/png": "[encoded data removed]",
      "text/plain": [
       "<matplotlib.figure.Figure at 0x7f1ec9694240>"
      ]
     },
     "metadata": {},
     "output_type": "display_data"
    },
    {
     "data": {
      "image/png": "[encoded data removed]",
      "text/plain": [
       "<matplotlib.figure.Figure at 0x7f1ec9ab5710>"
      ]
     },
     "metadata": {},
     "output_type": "display_data"
    },
    {
     "data": {
      "image/png": "[encoded data removed]",
      "text/plain": [
       "<matplotlib.figure.Figure at 0x7f1ec962e470>"
      ]
     },
     "metadata": {},
     "output_type": "display_data"
    },
    {
     "data": {
      "image/png": "[encoded data removed]",
      "text/plain": [
       "<matplotlib.figure.Figure at 0x7f1ec96032e8>"
      ]
     },
     "metadata": {},
     "output_type": "display_data"
    },
    {
     "data": {
      "image/png": "[encoded data removed]",
      "text/plain": [
       "<matplotlib.figure.Figure at 0x7f1ec95cee10>"
      ]
     },
     "metadata": {},
     "output_type": "display_data"
    },
    {
     "data": {
      "image/png": "[encoded data removed]",
      "text/plain": [
       "<matplotlib.figure.Figure at 0x7f1ecc7cb630>"
      ]
     },
     "metadata": {},
     "output_type": "display_data"
    },
    {
     "data": {
      "image/png": "[encoded data removed]",
      "text/plain": [
       "<matplotlib.figure.Figure at 0x7f1ec94dd128>"
      ]
     },
     "metadata": {},
     "output_type": "display_data"
    },
    {
     "data": {
      "image/png": "[encoded data removed]",
      "text/plain": [
       "<matplotlib.figure.Figure at 0x7f1ec94a6fd0>"
      ]
     },
     "metadata": {},
     "output_type": "display_data"
    },
    {
     "data": {
      "image/png": "[encoded data removed]",
      "text/plain": [
       "<matplotlib.figure.Figure at 0x7f1ec947a978>"
      ]
     },
     "metadata": {},
     "output_type": "display_data"
    },
    {
     "data": {
      "image/png": "[encoded data removed]",
      "text/plain": [
       "<matplotlib.figure.Figure at 0x7f1ec93d1390>"
      ]
     },
     "metadata": {},
     "output_type": "display_data"
    },
    {
     "data": {
      "image/png": "[encoded data removed]",
      "text/plain": [
       "<matplotlib.figure.Figure at 0x7f1ec939ce48>"
      ]
     },
     "metadata": {},
     "output_type": "display_data"
    },
    {
     "data": {
      "image/png": "[encoded data removed]",
      "text/plain": [
       "<matplotlib.figure.Figure at 0x7f1ec97ff0b8>"
      ]
     },
     "metadata": {},
     "output_type": "display_data"
    },
    {
     "data": {
      "image/png": "[encoded data removed]",
      "text/plain": [
       "<matplotlib.figure.Figure at 0x7f1ec9345588>"
      ]
     },
     "metadata": {},
     "output_type": "display_data"
    },
    {
     "data": {
      "image/png": "[encoded data removed]",
      "text/plain": [
       "<matplotlib.figure.Figure at 0x7f1ec929e5c0>"
      ]
     },
     "metadata": {},
     "output_type": "display_data"
    },
    {
     "data": {
      "image/png": "[encoded data removed]",
      "text/plain": [
       "<matplotlib.figure.Figure at 0x7f1ec92730b8>"
      ]
     },
     "metadata": {},
     "output_type": "display_data"
    },
    {
     "data": {
      "image/png": "[encoded data removed]",
      "text/plain": [
       "<matplotlib.figure.Figure at 0x7f1ec92385c0>"
      ]
     },
     "metadata": {},
     "output_type": "display_data"
    },
    {
     "data": {
      "image/png": "[encoded data removed]",
      "text/plain": [
       "<matplotlib.figure.Figure at 0x7f1ec91920b8>"
      ]
     },
     "metadata": {},
     "output_type": "display_data"
    },
    {
     "data": {
      "image/png": "[encoded data removed]",
      "text/plain": [
       "<matplotlib.figure.Figure at 0x7f1ec9150630>"
      ]
     },
     "metadata": {},
     "output_type": "display_data"
    },
    {
     "data": {
      "image/png": "[encoded data removed]",
      "text/plain": [
       "<matplotlib.figure.Figure at 0x7f1ec912c668>"
      ]
     },
     "metadata": {},
     "output_type": "display_data"
    },
    {
     "data": {
      "image/png": "[encoded data removed]",
      "text/plain": [
       "<matplotlib.figure.Figure at 0x7f1ec9103400>"
      ]
     },
     "metadata": {},
     "output_type": "display_data"
    },
    {
     "data": {
      "image/png": "[encoded data removed]",
      "text/plain": [
       "<matplotlib.figure.Figure at 0x7f1ec90cdeb8>"
      ]
     },
     "metadata": {},
     "output_type": "display_data"
    },
    {
     "data": {
      "image/png": "[encoded data removed]",
      "text/plain": [
       "<matplotlib.figure.Figure at 0x7f1ec90205c0>"
      ]
     },
     "metadata": {},
     "output_type": "display_data"
    }
   ],
   "source": [
    "for i in range(train.shape[1]):\n",
    "    fig=plt.figure()\n",
    "    plt.hist(list(train[:,i]))"
   ]
  },
  {
   "cell_type": "code",
   "execution_count": 104,
   "metadata": {
    "scrolled": true
   },
   "outputs": [
    {
     "ename": "KeyboardInterrupt",
     "evalue": "",
     "output_type": "error",
     "traceback": [
      "\u001b[0;31m---------------------------------------------------------------------------\u001b[0m",
      "\u001b[0;31mKeyboardInterrupt\u001b[0m                         Traceback (most recent call last)",
      "\u001b[0;32m<ipython-input-104-64a7bd919538>\u001b[0m in \u001b[0;36m<module>\u001b[0;34m()\u001b[0m\n\u001b[1;32m      6\u001b[0m     \u001b[0mclf\u001b[0m\u001b[0;34m.\u001b[0m\u001b[0mfit\u001b[0m\u001b[0;34m(\u001b[0m\u001b[0mtrain\u001b[0m\u001b[0;34m,\u001b[0m\u001b[0my_train\u001b[0m\u001b[0;34m)\u001b[0m\u001b[0;34m\u001b[0m\u001b[0m\n\u001b[1;32m      7\u001b[0m \u001b[0;31m#     preds_tr=clf.predict(train)\u001b[0m\u001b[0;34m\u001b[0m\u001b[0;34m\u001b[0m\u001b[0m\n\u001b[0;32m----> 8\u001b[0;31m     \u001b[0mpreds\u001b[0m\u001b[0;34m=\u001b[0m\u001b[0mclf\u001b[0m\u001b[0;34m.\u001b[0m\u001b[0mpredict\u001b[0m\u001b[0;34m(\u001b[0m\u001b[0mtest\u001b[0m\u001b[0;34m)\u001b[0m\u001b[0;34m\u001b[0m\u001b[0m\n\u001b[0m\u001b[1;32m      9\u001b[0m \u001b[0;31m#     acc_tr.append(results.accuracy(y_train, preds_tr))\u001b[0m\u001b[0;34m\u001b[0m\u001b[0;34m\u001b[0m\u001b[0m\n\u001b[1;32m     10\u001b[0m     \u001b[0macc\u001b[0m\u001b[0;34m.\u001b[0m\u001b[0mappend\u001b[0m\u001b[0;34m(\u001b[0m\u001b[0mresults\u001b[0m\u001b[0;34m.\u001b[0m\u001b[0maccuracy\u001b[0m\u001b[0;34m(\u001b[0m\u001b[0my_test\u001b[0m\u001b[0;34m,\u001b[0m \u001b[0mpreds\u001b[0m\u001b[0;34m)\u001b[0m\u001b[0;34m)\u001b[0m\u001b[0;34m\u001b[0m\u001b[0m\n",
      "\u001b[0;32m<ipython-input-11-3bf8034974bc>\u001b[0m in \u001b[0;36mpredict\u001b[0;34m(self, test)\u001b[0m\n\u001b[1;32m     19\u001b[0m         \u001b[0mpreds\u001b[0m \u001b[0;34m=\u001b[0m \u001b[0;34m[\u001b[0m\u001b[0;34m]\u001b[0m\u001b[0;34m\u001b[0m\u001b[0m\n\u001b[1;32m     20\u001b[0m         \u001b[0;32mfor\u001b[0m \u001b[0mi\u001b[0m \u001b[0;32min\u001b[0m \u001b[0mrange\u001b[0m\u001b[0;34m(\u001b[0m\u001b[0mtest\u001b[0m\u001b[0;34m.\u001b[0m\u001b[0mshape\u001b[0m\u001b[0;34m[\u001b[0m\u001b[0;36m0\u001b[0m\u001b[0;34m]\u001b[0m\u001b[0;34m)\u001b[0m\u001b[0;34m:\u001b[0m\u001b[0;34m\u001b[0m\u001b[0m\n\u001b[0;32m---> 21\u001b[0;31m             \u001b[0mpreds\u001b[0m\u001b[0;34m.\u001b[0m\u001b[0mappend\u001b[0m\u001b[0;34m(\u001b[0m\u001b[0mself\u001b[0m\u001b[0;34m.\u001b[0m\u001b[0mpredict_one\u001b[0m\u001b[0;34m(\u001b[0m\u001b[0mtest\u001b[0m\u001b[0;34m[\u001b[0m\u001b[0mi\u001b[0m\u001b[0;34m,\u001b[0m\u001b[0;34m:\u001b[0m\u001b[0;34m]\u001b[0m\u001b[0;34m)\u001b[0m\u001b[0;34m)\u001b[0m\u001b[0;34m\u001b[0m\u001b[0m\n\u001b[0m\u001b[1;32m     22\u001b[0m         \u001b[0;32mreturn\u001b[0m \u001b[0mpreds\u001b[0m\u001b[0;34m\u001b[0m\u001b[0m\n",
      "\u001b[0;32m<ipython-input-11-3bf8034974bc>\u001b[0m in \u001b[0;36mpredict_one\u001b[0;34m(self, test)\u001b[0m\n\u001b[1;32m      7\u001b[0m     \u001b[0;32mdef\u001b[0m \u001b[0mpredict_one\u001b[0m\u001b[0;34m(\u001b[0m\u001b[0mself\u001b[0m\u001b[0;34m,\u001b[0m\u001b[0mtest\u001b[0m\u001b[0;34m)\u001b[0m\u001b[0;34m:\u001b[0m\u001b[0;34m\u001b[0m\u001b[0m\n\u001b[1;32m      8\u001b[0m         \u001b[0mdistances\u001b[0m\u001b[0;34m=\u001b[0m\u001b[0mnp\u001b[0m\u001b[0;34m.\u001b[0m\u001b[0msum\u001b[0m\u001b[0;34m(\u001b[0m\u001b[0;34m(\u001b[0m\u001b[0mself\u001b[0m\u001b[0;34m.\u001b[0m\u001b[0mtrain\u001b[0m\u001b[0;34m-\u001b[0m\u001b[0mtest\u001b[0m\u001b[0;34m)\u001b[0m\u001b[0;34m**\u001b[0m\u001b[0;36m2\u001b[0m\u001b[0;34m,\u001b[0m\u001b[0maxis\u001b[0m\u001b[0;34m=\u001b[0m\u001b[0;36m1\u001b[0m\u001b[0;34m)\u001b[0m\u001b[0;34m\u001b[0m\u001b[0m\n\u001b[0;32m----> 9\u001b[0;31m         \u001b[0msorts\u001b[0m \u001b[0;34m=\u001b[0m \u001b[0mdistances\u001b[0m\u001b[0;34m.\u001b[0m\u001b[0margsort\u001b[0m\u001b[0;34m(\u001b[0m\u001b[0;34m)\u001b[0m\u001b[0;34m\u001b[0m\u001b[0m\n\u001b[0m\u001b[1;32m     10\u001b[0m         \u001b[0mtargets\u001b[0m \u001b[0;34m=\u001b[0m \u001b[0mnp\u001b[0m\u001b[0;34m.\u001b[0m\u001b[0mzeros\u001b[0m\u001b[0;34m(\u001b[0m\u001b[0mself\u001b[0m\u001b[0;34m.\u001b[0m\u001b[0mk\u001b[0m\u001b[0;34m)\u001b[0m\u001b[0;34m\u001b[0m\u001b[0m\n\u001b[1;32m     11\u001b[0m         \u001b[0;32mfor\u001b[0m \u001b[0mi\u001b[0m \u001b[0;32min\u001b[0m \u001b[0mrange\u001b[0m\u001b[0;34m(\u001b[0m\u001b[0mself\u001b[0m\u001b[0;34m.\u001b[0m\u001b[0mk\u001b[0m\u001b[0;34m)\u001b[0m\u001b[0;34m:\u001b[0m\u001b[0;34m\u001b[0m\u001b[0m\n",
      "\u001b[0;31mKeyboardInterrupt\u001b[0m: "
     ]
    }
   ],
   "source": [
    "acc_tr=[]\n",
    "acc=[]\n",
    "x=np.arange(2,10)\n",
    "for i in x:\n",
    "    clf=KNN(i)\n",
    "    clf.fit(train,y_train)\n",
    "#     preds_tr=clf.predict(train)\n",
    "    preds=clf.predict(test)\n",
    "#     acc_tr.append(results.accuracy(y_train, preds_tr))\n",
    "    acc.append(results.accuracy(y_test, preds))\n",
    "    print(i)"
   ]
  },
  {
   "cell_type": "code",
   "execution_count": 103,
   "metadata": {},
   "outputs": [
    {
     "name": "stdout",
     "output_type": "stream",
     "text": [
      "[0.83409999999999995]\n"
     ]
    }
   ],
   "source": [
    "print(acc)"
   ]
  },
  {
   "cell_type": "code",
   "execution_count": null,
   "metadata": {
    "collapsed": true
   },
   "outputs": [],
   "source": [
    "fig,ax=plt.subplots()\n",
    "ax.scatter(list(x),acc_tr)\n",
    "ax.scatter(list(x),acc,color='r')"
   ]
  },
  {
   "cell_type": "code",
   "execution_count": null,
   "metadata": {
    "collapsed": true
   },
   "outputs": [],
   "source": [
    "x=np.arange(3,150,4)\n",
    "acc_tr=[]\n",
    "acc=[]\n",
    "for i in x:\n",
    "    lab=np.zeros(i)\n",
    "    kmeans = KMeans(i)\n",
    "    preds_tr=kmeans.fit_predict(train)\n",
    "    preds=kmeans.predict(test)\n",
    "    for j in range(i):\n",
    "        if((preds_tr==j).shape[0]):\n",
    "            lab[j]=np.bincount(y_train[(preds_tr==j)]).argmax()  \n",
    "    acc_tr.append(np.sum(y_train==lab[preds_tr])/y_train.shape)\n",
    "    acc.append(np.sum(y_test==lab[preds])/y_test.shape)\n",
    "\n",
    "fig,ax=plt.subplots()\n",
    "ax.scatter(list(x),acc_tr)\n",
    "ax.scatter(list(x),acc,color='r')"
   ]
  },
  {
   "cell_type": "code",
   "execution_count": 98,
   "metadata": {},
   "outputs": [
    {
     "name": "stdout",
     "output_type": "stream",
     "text": [
      "[5 2 1 ..., 8 1 7]\n",
      "[ 0.7591] [ 0.77198333]\n"
     ]
    }
   ],
   "source": [
    "clf = GaussianNB()\n",
    "clf.fit(train,y_train)\n",
    "acc_tr=np.sum(y_train==clf.predict(train))/y_train.shape\n",
    "acc=np.sum(y_test==clf.predict(test))/y_test.shape\n",
    "print(clf.predict(test))\n",
    "print(acc,acc_tr)"
   ]
  },
  {
   "cell_type": "code",
   "execution_count": 143,
   "metadata": {},
   "outputs": [
    {
     "name": "stdout",
     "output_type": "stream",
     "text": [
      "[2 0 2 0 2 2 2 2 1 1 2 2 1 2 1 1 2 0 1 1 1 2 0 1 0 2 0 1 2 1 2 0 2 0 0 1 0\n",
      " 1 2 0 1 2 2 0 2 0 1 0 1 2 0 0 2 1 1 2 0 2 0 1 0 2 2 2 2 1 1 1 0 0 2 1 0 2\n",
      " 1 2 0 0 2 1 2 1 1 0 2 0 0 2 2 1 1 0 0 0 2 0 2 2 2 0 0 2 0 2 0 1 1 2 1 1 2\n",
      " 0 0 1 2 1 2 2 0 0 0 0 1 2 2 0 0 0 1 2 0 2 2 1 1 0 1 0 0 2 1 2 2 1 2 1 2 1\n",
      " 1 1 2 1 2 2 1 0 0 2 2 1 1 1 1 1 1 1 1 1 0 1 2 0 2 1 0 0 1 2 0 2 0 2 1 2 2\n",
      " 2 2 0 2 2 0 0 1 1 1 1 0 1 1 2 0 0 1 0 1 0 1 1 2 1 2 1 0 2 2 0 2 2 1 2 2 2\n",
      " 0 2 1 2 2 2 1 0 2 2 1 2 2 2 2 1 0 0 0 0 1 2 2 0 0 0 0 0 2 1 2 1 1 2 1 0 0\n",
      " 2 0 1 1 1 1 2 0 2 1 1 0 0 1 0 0 2 0 2 0 2 2 2 2 1 2 0 2 0 0 1 1 1 0 1 2 1\n",
      " 1 2 2 0 0 0 1 2 1 1 1 0 1 2 2 2 1 2 1 1 0 0 0 2 0 1 2 1 1 2 1 2 0 2 1 2 1\n",
      " 0 1 0 1 0 0 2 2 1 0 1 1 0 0 1 0 0 0 2 2 0 2 0 1 2 0 1 2 0 1 2 1 2 2 0 2 1\n",
      " 0 2 2 1 1 1 2 1 0 0 0 0 1 1 1 2 0 0 2 1 0 0 0 1 0 1 0 1 0 2 0 2 0 2 1 2 1\n",
      " 1 0 2 2 0 1 1 2 2 1 1 1 0 2 1 0 2 2 2 0 0 1 2 0 0 1 1 1 0 2 0 2 0 2 2 1 1\n",
      " 1 1 2 2 1 0 2 1 2 2 0 1 2 0 1 0 2 1 0 2 1 1 2 0 0 1 2 0 0 2 1 2 0 0 2 2 1\n",
      " 0 1 2 1 2 1 0 0 1 0 0 1 0 0 2 1 1 2 1 0 0 2 2 0 0 0 2 1 0 0 1 2 2 1 0 0 0\n",
      " 0 1 0 2 1 2 2 1 2 1 1 1 1 2 1 0 2 1 0 0 1 1 0 1 1 1 0 1 0 1 0 1 0 1 0 0 2\n",
      " 1 0 2 0 2 2 2 1 1 1 0 0 1 2 2 2 2 2 0 2 2 2 0 0 1 2 1 2 0 0 1 2 0 1 2 0 0\n",
      " 2 0 2 2 2 0 1 0]\n",
      "[ 0.89833333] [ 0.90416667]\n"
     ]
    }
   ],
   "source": [
    "clf = GaussianBayes()\n",
    "clf.fit(train,y_train)\n",
    "acc_tr=np.sum(y_train==clf.predict(train))/y_train.shape\n",
    "acc=np.sum(y_test==clf.predict(test))/y_test.shape\n",
    "print(clf.predict(test))\n",
    "print(acc,acc_tr)"
   ]
  },
  {
   "cell_type": "code",
   "execution_count": 8,
   "metadata": {},
   "outputs": [
    {
     "data": {
      "image/png": "[encoded data removed]",
      "text/plain": [
       "<matplotlib.figure.Figure at 0x7fa6ac3aca20>"
      ]
     },
     "metadata": {},
     "output_type": "display_data"
    }
   ],
   "source": [
    "fig,ax=plt.subplots()\n",
    "ax.set_xlabel('False Positive Rate')\n",
    "ax.set_ylabel('True Positive Rate')\n",
    "ax.set_title('Receiver operating characteristic -multi-class')\n",
    "ax.legend(loc=\"lower right\")"
   ]
  },
  {
   "cell_type": "markdown",
   "metadata": {},
   "source": [
    "# MEDICAL DATA"
   ]
  },
  {
   "cell_type": "code",
   "execution_count": 14,
   "metadata": {},
   "outputs": [
    {
     "name": "stdout",
     "output_type": "stream",
     "text": [
      "[['HEALTHY' 1.6315155608144196 -0.26444658130172355 2.534567146651425]\n",
      " ['SURGERY' 0.15395105426389907 1.419533481505174 1.3331207912724836]\n",
      " ['HEALTHY' 2.021729118164318 0.26204637889999405 2.8799717380508727]\n",
      " ..., \n",
      " ['HEALTHY' 0.19320188275265227 0.36039894430698144 1.8676445668171464]\n",
      " ['HEALTHY' 1.6840959730399991 -0.02321819895892971 3.306257682435044]\n",
      " ['MEDICATION' 0.9752179047232428 2.305958926888452 0.22982688347681815]]\n",
      "(3000,)\n"
     ]
    }
   ],
   "source": [
    "data = pd.read_csv('Medical_data.csv')\n",
    "X = data.as_matrix()\n",
    "print(X)\n",
    "data = X[:,1:4]\n",
    "y=np.empty(X.shape[0])\n",
    "for i in range(X.shape[0]):\n",
    "    if(X[i,0]=='HEALTHY'):\n",
    "        y[i]=0\n",
    "    if(X[i,0]=='SURGERY'):\n",
    "        y[i]=1\n",
    "    if(X[i,0]=='MEDICATION'):\n",
    "        y[i]=2\n",
    "print(y.shape)        \n",
    "y=np.array(y,dtype='int')"
   ]
  },
  {
   "cell_type": "code",
   "execution_count": 15,
   "metadata": {
    "collapsed": true
   },
   "outputs": [],
   "source": [
    "from sklearn.model_selection import StratifiedShuffleSplit\n",
    "sss = StratifiedShuffleSplit(n_splits=20, test_size=0.2)\n",
    "sss.get_n_splits(data, y)\n",
    "for train_index, test_index in sss.split(data, y):\n",
    "    train, y_train = data[train_index], y[train_index]\n",
    "    test, y_test = data[test_index], y[test_index]"
   ]
  },
  {
   "cell_type": "code",
   "execution_count": 16,
   "metadata": {},
   "outputs": [
    {
     "name": "stdout",
     "output_type": "stream",
     "text": [
      "[[-0.12005292953693544 -0.769731863715909 2.1310503102593494]\n",
      " [0.883304437829268 2.0356177317342605 -0.1976768570953032]\n",
      " [-0.44632141487895743 3.8924282327091526 0.12915545376125967]\n",
      " ..., \n",
      " [2.0861847566279974 2.160895715478742 0.3604431919369457]\n",
      " [3.010457546684365 1.0380750865342 -0.15256158527070673]\n",
      " [1.993378734448228 2.0621189071818047 -0.10819431251759952]] (2400,)\n"
     ]
    }
   ],
   "source": [
    "print(train,y_train.shape)"
   ]
  },
  {
   "cell_type": "code",
   "execution_count": 53,
   "metadata": {},
   "outputs": [
    {
     "name": "stdout",
     "output_type": "stream",
     "text": [
      "[[ 1.10798014  1.10798014  1.10798014]\n",
      " [ 0.          0.          0.        ]\n",
      " [ 0.          0.          0.        ]]\n",
      "[[ 1.14663061  1.14663061  1.14663061]\n",
      " [ 0.43308336  0.43308336  0.43308336]\n",
      " [ 0.          0.          0.        ]]\n",
      "[[ 1.20877267  1.20877267  1.20877267]\n",
      " [ 0.61214397  0.61214397  0.61214397]\n",
      " [ 0.08134919  0.08134919  0.08134919]]\n",
      "[[ 1.25901176  1.25901176  1.25901176]\n",
      " [ 0.71575627  0.71575627  0.71575627]\n",
      " [ 0.24092278  0.24092278  0.24092278]]\n",
      "[[ 1.30044437  1.30044437  1.30044437]\n",
      " [ 0.799009    0.799009    0.799009  ]\n",
      " [ 0.37353568  0.37353568  0.37353568]]\n",
      "[[ 1.33676163  1.33676163  1.33676163]\n",
      " [ 0.86692002  0.86692002  0.86692002]\n",
      " [ 0.45762324  0.45762324  0.45762324]]\n",
      "[[ 1.36912684  1.36912684  1.36912684]\n",
      " [ 0.91978495  0.91978495  0.91978495]\n",
      " [ 0.51284891  0.51284891  0.51284891]]\n",
      "[[ 1.39273267  1.39273267  1.39273267]\n",
      " [ 0.95254408  0.95254408  0.95254408]\n",
      " [ 0.54263953  0.54263953  0.54263953]]\n",
      "[[ 1.41237449  1.41237449  1.41237449]\n",
      " [ 0.97843173  0.97843173  0.97843173]\n",
      " [ 0.56777175  0.56777175  0.56777175]]\n",
      "[[ 1.42857599  1.42857599  1.42857599]\n",
      " [ 1.00019613  1.00019613  1.00019613]\n",
      " [ 0.5902289   0.5902289   0.5902289 ]]\n",
      "[[ 1.44107298  1.44107298  1.44107298]\n",
      " [ 1.01954023  1.01954023  1.01954023]\n",
      " [ 0.61269874  0.61269874  0.61269874]]\n",
      "[[ 1.4501563   1.4501563   1.4501563 ]\n",
      " [ 1.03468221  1.03468221  1.03468221]\n",
      " [ 0.63043944  0.63043944  0.63043944]]\n",
      "[[ 1.45913324  1.45913324  1.45913324]\n",
      " [ 1.04665827  1.04665827  1.04665827]\n",
      " [ 0.64163953  0.64163953  0.64163953]]\n",
      "[[ 1.46757113  1.46757113  1.46757113]\n",
      " [ 1.05657335  1.05657335  1.05657335]\n",
      " [ 0.64977231  0.64977231  0.64977231]]\n",
      "[[ 1.47263119  1.47263119  1.47263119]\n",
      " [ 1.06214815  1.06214815  1.06214815]\n",
      " [ 0.6540134   0.6540134   0.6540134 ]]\n",
      "[[ 1.47558124  1.47558124  1.47558124]\n",
      " [ 1.0662551   1.0662551   1.0662551 ]\n",
      " [ 0.65820035  0.65820035  0.65820035]]\n",
      "[[ 1.47856482  1.47856482  1.47856482]\n",
      " [ 1.06997664  1.06997664  1.06997664]\n",
      " [ 0.66156142  0.66156142  0.66156142]]\n",
      "[[ 1.48214117  1.48214117  1.48214117]\n",
      " [ 1.07347449  1.07347449  1.07347449]\n",
      " [ 0.66379048  0.66379048  0.66379048]]\n",
      "[[ 1.48380304  1.48380304  1.48380304]\n",
      " [ 1.07606912  1.07606912  1.07606912]\n",
      " [ 0.66673845  0.66673845  0.66673845]]\n",
      "[[ 1.48547296  1.48547296  1.48547296]\n",
      " [ 1.07791415  1.07791415  1.07791415]\n",
      " [ 0.66819695  0.66819695  0.66819695]]\n",
      "[[ 1.48686951  1.48686951  1.48686951]\n",
      " [ 1.07938797  1.07938797  1.07938797]\n",
      " [ 0.66928925  0.66928925  0.66928925]]\n",
      "[[ 1.48799221  1.48799221  1.48799221]\n",
      " [ 1.08067681  1.08067681  1.08067681]\n",
      " [ 0.67037907  0.67037907  0.67037907]]\n",
      "[[ 1.48940342  1.48940342  1.48940342]\n",
      " [ 1.08177469  1.08177469  1.08177469]\n",
      " [ 0.6707419   0.6707419   0.6707419 ]]\n",
      "[[ 1.49025507  1.49025507  1.49025507]\n",
      " [ 1.08250588  1.08250588  1.08250588]\n",
      " [ 0.67110552  0.67110552  0.67110552]]\n",
      "[[ 1.49139548  1.49139548  1.49139548]\n",
      " [ 1.08323373  1.08323373  1.08323373]\n",
      " [ 0.67110552  0.67110552  0.67110552]]\n",
      "[[ 1.49196866  1.49196866  1.49196866]\n",
      " [ 1.08378122  1.08378122  1.08378122]\n",
      " [ 0.6714695   0.6714695   0.6714695 ]]\n",
      "[[ 1.49196866  1.49196866  1.49196866]\n",
      " [ 1.08415032  1.08415032  1.08415032]\n",
      " [ 0.6721948   0.6721948   0.6721948 ]]\n",
      "[[ 1.49196866  1.49196866  1.49196866]\n",
      " [ 1.08489096  1.08489096  1.08489096]\n",
      " [ 0.67363316  0.67363316  0.67363316]]\n",
      "[[ 1.49196866  1.49196866  1.49196866]\n",
      " [ 1.08544785  1.08544785  1.08544785]\n",
      " [ 0.67470287  0.67470287  0.67470287]]\n",
      "[[ 1.492254    1.492254    1.492254  ]\n",
      " [ 1.0860013   1.0860013   1.0860013 ]\n",
      " [ 0.67541383  0.67541383  0.67541383]]\n",
      "[[ 1.492254    1.492254    1.492254  ]\n",
      " [ 1.0860013   1.0860013   1.0860013 ]\n",
      " [ 0.67541383  0.67541383  0.67541383]]\n",
      "[[ 1.492254    1.492254    1.492254  ]\n",
      " [ 1.0860013   1.0860013   1.0860013 ]\n",
      " [ 0.67541383  0.67541383  0.67541383]]\n",
      "[[ 1.492254    1.492254    1.492254  ]\n",
      " [ 1.0860013   1.0860013   1.0860013 ]\n",
      " [ 0.67541383  0.67541383  0.67541383]]\n",
      "[[ 1.492254    1.492254    1.492254  ]\n",
      " [ 1.0860013   1.0860013   1.0860013 ]\n",
      " [ 0.67541383  0.67541383  0.67541383]]\n",
      "[[ 1.492254    1.492254    1.492254  ]\n",
      " [ 1.0860013   1.0860013   1.0860013 ]\n",
      " [ 0.67541383  0.67541383  0.67541383]]\n",
      "[[ 1.492254    1.492254    1.492254  ]\n",
      " [ 1.0860013   1.0860013   1.0860013 ]\n",
      " [ 0.67541383  0.67541383  0.67541383]]\n",
      "[[ 1.492254    1.492254    1.492254  ]\n",
      " [ 1.0860013   1.0860013   1.0860013 ]\n",
      " [ 0.67541383  0.67541383  0.67541383]]\n",
      "[[ 1.492254    1.492254    1.492254  ]\n",
      " [ 1.0860013   1.0860013   1.0860013 ]\n",
      " [ 0.67541383  0.67541383  0.67541383]]\n",
      "[[ 1.492254    1.492254    1.492254  ]\n",
      " [ 1.0860013   1.0860013   1.0860013 ]\n",
      " [ 0.67541383  0.67541383  0.67541383]]\n",
      "[[ 1.492254    1.492254    1.492254  ]\n",
      " [ 1.0860013   1.0860013   1.0860013 ]\n",
      " [ 0.67541383  0.67541383  0.67541383]]\n",
      "[[ 1.492254    1.492254    1.492254  ]\n",
      " [ 1.0860013   1.0860013   1.0860013 ]\n",
      " [ 0.67541383  0.67541383  0.67541383]]\n",
      "[[ 1.492254    1.492254    1.492254  ]\n",
      " [ 1.0860013   1.0860013   1.0860013 ]\n",
      " [ 0.67541383  0.67541383  0.67541383]]\n",
      "[[ 1.492254    1.492254    1.492254  ]\n",
      " [ 1.0860013   1.0860013   1.0860013 ]\n",
      " [ 0.67541383  0.67541383  0.67541383]]\n",
      "[[ 1.492254    1.492254    1.492254  ]\n",
      " [ 1.0860013   1.0860013   1.0860013 ]\n",
      " [ 0.67541383  0.67541383  0.67541383]]\n",
      "[[ 1.492254    1.492254    1.492254  ]\n",
      " [ 1.0860013   1.0860013   1.0860013 ]\n",
      " [ 0.67541383  0.67541383  0.67541383]]\n",
      "[[ 1.492254    1.492254    1.492254  ]\n",
      " [ 1.0860013   1.0860013   1.0860013 ]\n",
      " [ 0.67541383  0.67541383  0.67541383]]\n",
      "[[ 1.492254    1.492254    1.492254  ]\n",
      " [ 1.0860013   1.0860013   1.0860013 ]\n",
      " [ 0.67541383  0.67541383  0.67541383]]\n",
      "[[ 1.492254    1.492254    1.492254  ]\n",
      " [ 1.0860013   1.0860013   1.0860013 ]\n",
      " [ 0.67541383  0.67541383  0.67541383]]\n",
      "[[ 1.492254    1.492254    1.492254  ]\n",
      " [ 1.0860013   1.0860013   1.0860013 ]\n",
      " [ 0.67541383  0.67541383  0.67541383]]\n",
      "[[ 1.492254    1.492254    1.492254  ]\n",
      " [ 1.0860013   1.0860013   1.0860013 ]\n",
      " [ 0.67541383  0.67541383  0.67541383]]\n",
      "[[ 1.492254    1.492254    1.492254  ]\n",
      " [ 1.0860013   1.0860013   1.0860013 ]\n",
      " [ 0.67541383  0.67541383  0.67541383]]\n",
      "[[ 1.492254    1.492254    1.492254  ]\n",
      " [ 1.0860013   1.0860013   1.0860013 ]\n",
      " [ 0.67541383  0.67541383  0.67541383]]\n",
      "[[ 1.492254    1.492254    1.492254  ]\n",
      " [ 1.0860013   1.0860013   1.0860013 ]\n",
      " [ 0.67541383  0.67541383  0.67541383]]\n",
      "[[ 1.492254    1.492254    1.492254  ]\n",
      " [ 1.0860013   1.0860013   1.0860013 ]\n",
      " [ 0.67541383  0.67541383  0.67541383]]\n",
      "[[ 1.492254    1.492254    1.492254  ]\n",
      " [ 1.0860013   1.0860013   1.0860013 ]\n",
      " [ 0.67541383  0.67541383  0.67541383]]\n",
      "[[ 1.492254    1.492254    1.492254  ]\n",
      " [ 1.0860013   1.0860013   1.0860013 ]\n",
      " [ 0.67541383  0.67541383  0.67541383]]\n",
      "[[ 1.492254    1.492254    1.492254  ]\n",
      " [ 1.0860013   1.0860013   1.0860013 ]\n",
      " [ 0.67541383  0.67541383  0.67541383]]\n",
      "[[ 1.492254    1.492254    1.492254  ]\n",
      " [ 1.0860013   1.0860013   1.0860013 ]\n",
      " [ 0.67541383  0.67541383  0.67541383]]\n",
      "[[ 1.492254    1.492254    1.492254  ]\n",
      " [ 1.0860013   1.0860013   1.0860013 ]\n",
      " [ 0.67541383  0.67541383  0.67541383]]\n",
      "[[ 1.492254    1.492254    1.492254  ]\n",
      " [ 1.0860013   1.0860013   1.0860013 ]\n",
      " [ 0.67541383  0.67541383  0.67541383]]\n",
      "[[ 1.492254    1.492254    1.492254  ]\n",
      " [ 1.0860013   1.0860013   1.0860013 ]\n",
      " [ 0.67541383  0.67541383  0.67541383]]\n",
      "[[ 1.492254    1.492254    1.492254  ]\n",
      " [ 1.0860013   1.0860013   1.0860013 ]\n",
      " [ 0.67541383  0.67541383  0.67541383]]\n",
      "[[ 1.492254    1.492254    1.492254  ]\n",
      " [ 1.0860013   1.0860013   1.0860013 ]\n",
      " [ 0.67541383  0.67541383  0.67541383]]\n",
      "[[ 1.492254    1.492254    1.492254  ]\n",
      " [ 1.0860013   1.0860013   1.0860013 ]\n",
      " [ 0.67541383  0.67541383  0.67541383]]\n",
      "[[ 1.492254    1.492254    1.492254  ]\n",
      " [ 1.0860013   1.0860013   1.0860013 ]\n",
      " [ 0.67541383  0.67541383  0.67541383]]\n",
      "[[ 1.492254    1.492254    1.492254  ]\n",
      " [ 1.0860013   1.0860013   1.0860013 ]\n",
      " [ 0.67541383  0.67541383  0.67541383]]\n",
      "[[ 1.492254    1.492254    1.492254  ]\n",
      " [ 1.0860013   1.0860013   1.0860013 ]\n",
      " [ 0.67541383  0.67541383  0.67541383]]\n",
      "[[ 1.492254    1.492254    1.492254  ]\n",
      " [ 1.0860013   1.0860013   1.0860013 ]\n",
      " [ 0.67541383  0.67541383  0.67541383]]\n",
      "[[ 1.492254    1.492254    1.492254  ]\n",
      " [ 1.0860013   1.0860013   1.0860013 ]\n",
      " [ 0.67541383  0.67541383  0.67541383]]\n",
      "[[ 1.492254    1.492254    1.492254  ]\n",
      " [ 1.0860013   1.0860013   1.0860013 ]\n",
      " [ 0.67541383  0.67541383  0.67541383]]\n",
      "[[ 1.492254    1.492254    1.492254  ]\n",
      " [ 1.0860013   1.0860013   1.0860013 ]\n",
      " [ 0.67541383  0.67541383  0.67541383]]\n",
      "[[ 1.492254    1.492254    1.492254  ]\n",
      " [ 1.0860013   1.0860013   1.0860013 ]\n",
      " [ 0.67541383  0.67541383  0.67541383]]\n",
      "[[ 1.492254    1.492254    1.492254  ]\n",
      " [ 1.0860013   1.0860013   1.0860013 ]\n"
     ]
    },
    {
     "name": "stdout",
     "output_type": "stream",
     "text": [
      " [ 0.67541383  0.67541383  0.67541383]]\n",
      "[[ 1.492254    1.492254    1.492254  ]\n",
      " [ 1.0860013   1.0860013   1.0860013 ]\n",
      " [ 0.67541383  0.67541383  0.67541383]]\n",
      "[[ 1.492254    1.492254    1.492254  ]\n",
      " [ 1.0860013   1.0860013   1.0860013 ]\n",
      " [ 0.67541383  0.67541383  0.67541383]]\n",
      "[[ 1.492254    1.492254    1.492254  ]\n",
      " [ 1.0860013   1.0860013   1.0860013 ]\n",
      " [ 0.67541383  0.67541383  0.67541383]]\n",
      "[[ 1.492254    1.492254    1.492254  ]\n",
      " [ 1.0860013   1.0860013   1.0860013 ]\n",
      " [ 0.67541383  0.67541383  0.67541383]]\n",
      "[[ 1.492254    1.492254    1.492254  ]\n",
      " [ 1.0860013   1.0860013   1.0860013 ]\n",
      " [ 0.67541383  0.67541383  0.67541383]]\n",
      "[[ 1.492254    1.492254    1.492254  ]\n",
      " [ 1.0860013   1.0860013   1.0860013 ]\n",
      " [ 0.67541383  0.67541383  0.67541383]]\n",
      "[[ 1.492254    1.492254    1.492254  ]\n",
      " [ 1.0860013   1.0860013   1.0860013 ]\n",
      " [ 0.67541383  0.67541383  0.67541383]]\n",
      "[[ 1.492254    1.492254    1.492254  ]\n",
      " [ 1.0860013   1.0860013   1.0860013 ]\n",
      " [ 0.67541383  0.67541383  0.67541383]]\n",
      "[[ 1.492254    1.492254    1.492254  ]\n",
      " [ 1.0860013   1.0860013   1.0860013 ]\n",
      " [ 0.67541383  0.67541383  0.67541383]]\n",
      "[[ 1.492254    1.492254    1.492254  ]\n",
      " [ 1.0860013   1.0860013   1.0860013 ]\n",
      " [ 0.67541383  0.67541383  0.67541383]]\n",
      "[[ 1.492254    1.492254    1.492254  ]\n",
      " [ 1.0860013   1.0860013   1.0860013 ]\n",
      " [ 0.67541383  0.67541383  0.67541383]]\n",
      "[[ 1.492254    1.492254    1.492254  ]\n",
      " [ 1.0860013   1.0860013   1.0860013 ]\n",
      " [ 0.67541383  0.67541383  0.67541383]]\n",
      "[[ 1.492254    1.492254    1.492254  ]\n",
      " [ 1.0860013   1.0860013   1.0860013 ]\n",
      " [ 0.67541383  0.67541383  0.67541383]]\n",
      "[[ 1.492254    1.492254    1.492254  ]\n",
      " [ 1.0860013   1.0860013   1.0860013 ]\n",
      " [ 0.67541383  0.67541383  0.67541383]]\n",
      "[[ 1.492254    1.492254    1.492254  ]\n",
      " [ 1.0860013   1.0860013   1.0860013 ]\n",
      " [ 0.67541383  0.67541383  0.67541383]]\n",
      "[[ 1.492254    1.492254    1.492254  ]\n",
      " [ 1.0860013   1.0860013   1.0860013 ]\n",
      " [ 0.67541383  0.67541383  0.67541383]]\n",
      "[[ 1.492254    1.492254    1.492254  ]\n",
      " [ 1.0860013   1.0860013   1.0860013 ]\n",
      " [ 0.67541383  0.67541383  0.67541383]]\n",
      "[[ 1.492254    1.492254    1.492254  ]\n",
      " [ 1.0860013   1.0860013   1.0860013 ]\n",
      " [ 0.67541383  0.67541383  0.67541383]]\n",
      "[[ 1.492254    1.492254    1.492254  ]\n",
      " [ 1.0860013   1.0860013   1.0860013 ]\n",
      " [ 0.67541383  0.67541383  0.67541383]]\n",
      "[[ 1.492254    1.492254    1.492254  ]\n",
      " [ 1.0860013   1.0860013   1.0860013 ]\n",
      " [ 0.67541383  0.67541383  0.67541383]]\n",
      "[[ 1.492254    1.492254    1.492254  ]\n",
      " [ 1.0860013   1.0860013   1.0860013 ]\n",
      " [ 0.67541383  0.67541383  0.67541383]]\n",
      "[[ 1.492254    1.492254    1.492254  ]\n",
      " [ 1.0860013   1.0860013   1.0860013 ]\n",
      " [ 0.67541383  0.67541383  0.67541383]]\n",
      "[[ 1.492254    1.492254    1.492254  ]\n",
      " [ 1.0860013   1.0860013   1.0860013 ]\n",
      " [ 0.67541383  0.67541383  0.67541383]]\n",
      "[[ 1.492254    1.492254    1.492254  ]\n",
      " [ 1.0860013   1.0860013   1.0860013 ]\n",
      " [ 0.67541383  0.67541383  0.67541383]]\n",
      "[[ 1.492254    1.492254    1.492254  ]\n",
      " [ 1.0860013   1.0860013   1.0860013 ]\n",
      " [ 0.67541383  0.67541383  0.67541383]]\n",
      "[[ 1.492254    1.492254    1.492254  ]\n",
      " [ 1.0860013   1.0860013   1.0860013 ]\n",
      " [ 0.67541383  0.67541383  0.67541383]]\n",
      "[[ 1.492254    1.492254    1.492254  ]\n",
      " [ 1.0860013   1.0860013   1.0860013 ]\n",
      " [ 0.67541383  0.67541383  0.67541383]]\n",
      "[[ 1.492254    1.492254    1.492254  ]\n",
      " [ 1.0860013   1.0860013   1.0860013 ]\n",
      " [ 0.67541383  0.67541383  0.67541383]]\n",
      "[[ 1.492254    1.492254    1.492254  ]\n",
      " [ 1.0860013   1.0860013   1.0860013 ]\n",
      " [ 0.67541383  0.67541383  0.67541383]]\n",
      "[[ 1.492254    1.492254    1.492254  ]\n",
      " [ 1.0860013   1.0860013   1.0860013 ]\n",
      " [ 0.67541383  0.67541383  0.67541383]]\n",
      "[[ 1.492254    1.492254    1.492254  ]\n",
      " [ 1.0860013   1.0860013   1.0860013 ]\n",
      " [ 0.67541383  0.67541383  0.67541383]]\n",
      "[[ 1.492254    1.492254    1.492254  ]\n",
      " [ 1.0860013   1.0860013   1.0860013 ]\n",
      " [ 0.67541383  0.67541383  0.67541383]]\n",
      "[[ 1.492254    1.492254    1.492254  ]\n",
      " [ 1.0860013   1.0860013   1.0860013 ]\n",
      " [ 0.67541383  0.67541383  0.67541383]]\n",
      "[[ 1.492254    1.492254    1.492254  ]\n",
      " [ 1.0860013   1.0860013   1.0860013 ]\n",
      " [ 0.67541383  0.67541383  0.67541383]]\n",
      "[[ 1.492254    1.492254    1.492254  ]\n",
      " [ 1.0860013   1.0860013   1.0860013 ]\n",
      " [ 0.67541383  0.67541383  0.67541383]]\n",
      "[[ 1.492254    1.492254    1.492254  ]\n",
      " [ 1.0860013   1.0860013   1.0860013 ]\n",
      " [ 0.67541383  0.67541383  0.67541383]]\n",
      "[[ 1.492254    1.492254    1.492254  ]\n",
      " [ 1.0860013   1.0860013   1.0860013 ]\n",
      " [ 0.67541383  0.67541383  0.67541383]]\n",
      "[[ 1.492254    1.492254    1.492254  ]\n",
      " [ 1.0860013   1.0860013   1.0860013 ]\n",
      " [ 0.67541383  0.67541383  0.67541383]]\n",
      "[[ 1.492254    1.492254    1.492254  ]\n",
      " [ 1.0860013   1.0860013   1.0860013 ]\n",
      " [ 0.67541383  0.67541383  0.67541383]]\n",
      "[[ 1.492254    1.492254    1.492254  ]\n",
      " [ 1.0860013   1.0860013   1.0860013 ]\n",
      " [ 0.67541383  0.67541383  0.67541383]]\n",
      "[[ 1.492254    1.492254    1.492254  ]\n",
      " [ 1.0860013   1.0860013   1.0860013 ]\n",
      " [ 0.67541383  0.67541383  0.67541383]]\n",
      "[[ 1.492254    1.492254    1.492254  ]\n",
      " [ 1.0860013   1.0860013   1.0860013 ]\n",
      " [ 0.67541383  0.67541383  0.67541383]]\n",
      "[[ 1.492254    1.492254    1.492254  ]\n",
      " [ 1.0860013   1.0860013   1.0860013 ]\n",
      " [ 0.67541383  0.67541383  0.67541383]]\n",
      "[[ 1.492254    1.492254    1.492254  ]\n",
      " [ 1.0860013   1.0860013   1.0860013 ]\n",
      " [ 0.67541383  0.67541383  0.67541383]]\n",
      "[[ 1.492254    1.492254    1.492254  ]\n",
      " [ 1.0860013   1.0860013   1.0860013 ]\n",
      " [ 0.67541383  0.67541383  0.67541383]]\n",
      "[[ 1.492254    1.492254    1.492254  ]\n",
      " [ 1.0860013   1.0860013   1.0860013 ]\n",
      " [ 0.67541383  0.67541383  0.67541383]]\n",
      "[[ 1.492254    1.492254    1.492254  ]\n",
      " [ 1.0860013   1.0860013   1.0860013 ]\n",
      " [ 0.67541383  0.67541383  0.67541383]]\n",
      "[[ 1.492254    1.492254    1.492254  ]\n",
      " [ 1.0860013   1.0860013   1.0860013 ]\n",
      " [ 0.67541383  0.67541383  0.67541383]]\n",
      "[[ 1.492254    1.492254    1.492254  ]\n",
      " [ 1.0860013   1.0860013   1.0860013 ]\n",
      " [ 0.67541383  0.67541383  0.67541383]]\n",
      "[[ 1.492254    1.492254    1.492254  ]\n",
      " [ 1.0860013   1.0860013   1.0860013 ]\n",
      " [ 0.67541383  0.67541383  0.67541383]]\n",
      "[[ 1.492254    1.492254    1.492254  ]\n",
      " [ 1.0860013   1.0860013   1.0860013 ]\n",
      " [ 0.67541383  0.67541383  0.67541383]]\n",
      "[[ 1.492254    1.492254    1.492254  ]\n",
      " [ 1.0860013   1.0860013   1.0860013 ]\n",
      " [ 0.67541383  0.67541383  0.67541383]]\n",
      "[[ 1.492254    1.492254    1.492254  ]\n",
      " [ 1.0860013   1.0860013   1.0860013 ]\n",
      " [ 0.67541383  0.67541383  0.67541383]]\n",
      "[[ 1.492254    1.492254    1.492254  ]\n",
      " [ 1.0860013   1.0860013   1.0860013 ]\n",
      " [ 0.67541383  0.67541383  0.67541383]]\n",
      "[[ 1.492254    1.492254    1.492254  ]\n",
      " [ 1.0860013   1.0860013   1.0860013 ]\n",
      " [ 0.67541383  0.67541383  0.67541383]]\n",
      "[[ 1.492254    1.492254    1.492254  ]\n",
      " [ 1.0860013   1.0860013   1.0860013 ]\n",
      " [ 0.67541383  0.67541383  0.67541383]]\n",
      "[[ 1.492254    1.492254    1.492254  ]\n",
      " [ 1.0860013   1.0860013   1.0860013 ]\n",
      " [ 0.67541383  0.67541383  0.67541383]]\n",
      "[[ 1.492254    1.492254    1.492254  ]\n",
      " [ 1.0860013   1.0860013   1.0860013 ]\n",
      " [ 0.67541383  0.67541383  0.67541383]]\n",
      "[[ 1.492254    1.492254    1.492254  ]\n",
      " [ 1.0860013   1.0860013   1.0860013 ]\n",
      " [ 0.67541383  0.67541383  0.67541383]]\n",
      "[[ 1.492254    1.492254    1.492254  ]\n",
      " [ 1.0860013   1.0860013   1.0860013 ]\n",
      " [ 0.67541383  0.67541383  0.67541383]]\n",
      "[[ 1.492254    1.492254    1.492254  ]\n",
      " [ 1.0860013   1.0860013   1.0860013 ]\n",
      " [ 0.67541383  0.67541383  0.67541383]]\n",
      "[[ 1.492254    1.492254    1.492254  ]\n",
      " [ 1.0860013   1.0860013   1.0860013 ]\n",
      " [ 0.67541383  0.67541383  0.67541383]]\n",
      "[[ 1.492254    1.492254    1.492254  ]\n",
      " [ 1.0860013   1.0860013   1.0860013 ]\n",
      " [ 0.67541383  0.67541383  0.67541383]]\n",
      "[[ 1.492254    1.492254    1.492254  ]\n",
      " [ 1.0860013   1.0860013   1.0860013 ]\n",
      " [ 0.67541383  0.67541383  0.67541383]]\n",
      "[[ 1.492254    1.492254    1.492254  ]\n",
      " [ 1.0860013   1.0860013   1.0860013 ]\n",
      " [ 0.67541383  0.67541383  0.67541383]]\n",
      "[[ 1.492254    1.492254    1.492254  ]\n",
      " [ 1.0860013   1.0860013   1.0860013 ]\n",
      " [ 0.67541383  0.67541383  0.67541383]]\n",
      "[[ 1.492254    1.492254    1.492254  ]\n",
      " [ 1.0860013   1.0860013   1.0860013 ]\n",
      " [ 0.67541383  0.67541383  0.67541383]]\n",
      "[[ 1.492254    1.492254    1.492254  ]\n",
      " [ 1.0860013   1.0860013   1.0860013 ]\n",
      " [ 0.67541383  0.67541383  0.67541383]]\n",
      "[[ 1.492254    1.492254    1.492254  ]\n",
      " [ 1.0860013   1.0860013   1.0860013 ]\n",
      " [ 0.67541383  0.67541383  0.67541383]]\n",
      "[[ 1.492254    1.492254    1.492254  ]\n",
      " [ 1.0860013   1.0860013   1.0860013 ]\n",
      " [ 0.67541383  0.67541383  0.67541383]]\n",
      "[[ 1.492254    1.492254    1.492254  ]\n",
      " [ 1.0860013   1.0860013   1.0860013 ]\n"
     ]
    },
    {
     "name": "stdout",
     "output_type": "stream",
     "text": [
      " [ 0.67541383  0.67541383  0.67541383]]\n",
      "[[ 1.492254    1.492254    1.492254  ]\n",
      " [ 1.0860013   1.0860013   1.0860013 ]\n",
      " [ 0.67541383  0.67541383  0.67541383]]\n",
      "[[ 1.492254    1.492254    1.492254  ]\n",
      " [ 1.0860013   1.0860013   1.0860013 ]\n",
      " [ 0.67541383  0.67541383  0.67541383]]\n",
      "[[ 1.492254    1.492254    1.492254  ]\n",
      " [ 1.0860013   1.0860013   1.0860013 ]\n",
      " [ 0.67541383  0.67541383  0.67541383]]\n",
      "[[ 1.492254    1.492254    1.492254  ]\n",
      " [ 1.0860013   1.0860013   1.0860013 ]\n",
      " [ 0.67541383  0.67541383  0.67541383]]\n",
      "[[ 1.492254    1.492254    1.492254  ]\n",
      " [ 1.0860013   1.0860013   1.0860013 ]\n",
      " [ 0.67541383  0.67541383  0.67541383]]\n",
      "[[ 1.492254    1.492254    1.492254  ]\n",
      " [ 1.0860013   1.0860013   1.0860013 ]\n",
      " [ 0.67541383  0.67541383  0.67541383]]\n",
      "[[ 1.492254    1.492254    1.492254  ]\n",
      " [ 1.0860013   1.0860013   1.0860013 ]\n",
      " [ 0.67541383  0.67541383  0.67541383]]\n",
      "[[ 1.492254    1.492254    1.492254  ]\n",
      " [ 1.0860013   1.0860013   1.0860013 ]\n",
      " [ 0.67541383  0.67541383  0.67541383]]\n",
      "[[ 1.492254    1.492254    1.492254  ]\n",
      " [ 1.0860013   1.0860013   1.0860013 ]\n",
      " [ 0.67541383  0.67541383  0.67541383]]\n",
      "[[ 1.492254    1.492254    1.492254  ]\n",
      " [ 1.0860013   1.0860013   1.0860013 ]\n",
      " [ 0.67541383  0.67541383  0.67541383]]\n",
      "[[ 1.492254    1.492254    1.492254  ]\n",
      " [ 1.0860013   1.0860013   1.0860013 ]\n",
      " [ 0.67541383  0.67541383  0.67541383]]\n",
      "[[ 1.492254    1.492254    1.492254  ]\n",
      " [ 1.0860013   1.0860013   1.0860013 ]\n",
      " [ 0.67541383  0.67541383  0.67541383]]\n",
      "[[ 1.492254    1.492254    1.492254  ]\n",
      " [ 1.0860013   1.0860013   1.0860013 ]\n",
      " [ 0.67541383  0.67541383  0.67541383]]\n",
      "[[ 1.492254    1.492254    1.492254  ]\n",
      " [ 1.0860013   1.0860013   1.0860013 ]\n",
      " [ 0.67541383  0.67541383  0.67541383]]\n",
      "[[ 1.492254    1.492254    1.492254  ]\n",
      " [ 1.0860013   1.0860013   1.0860013 ]\n",
      " [ 0.67541383  0.67541383  0.67541383]]\n",
      "[[ 1.492254    1.492254    1.492254  ]\n",
      " [ 1.0860013   1.0860013   1.0860013 ]\n",
      " [ 0.67541383  0.67541383  0.67541383]]\n",
      "[[ 1.492254    1.492254    1.492254  ]\n",
      " [ 1.0860013   1.0860013   1.0860013 ]\n",
      " [ 0.67541383  0.67541383  0.67541383]]\n",
      "[[ 1.492254    1.492254    1.492254  ]\n",
      " [ 1.0860013   1.0860013   1.0860013 ]\n",
      " [ 0.67541383  0.67541383  0.67541383]]\n",
      "[[ 1.492254    1.492254    1.492254  ]\n",
      " [ 1.0860013   1.0860013   1.0860013 ]\n",
      " [ 0.67541383  0.67541383  0.67541383]]\n",
      "[[ 1.492254    1.492254    1.492254  ]\n",
      " [ 1.0860013   1.0860013   1.0860013 ]\n",
      " [ 0.67541383  0.67541383  0.67541383]]\n",
      "[[ 1.492254    1.492254    1.492254  ]\n",
      " [ 1.0860013   1.0860013   1.0860013 ]\n",
      " [ 0.67541383  0.67541383  0.67541383]]\n",
      "[[ 1.492254    1.492254    1.492254  ]\n",
      " [ 1.0860013   1.0860013   1.0860013 ]\n",
      " [ 0.67541383  0.67541383  0.67541383]]\n",
      "[[ 1.492254    1.492254    1.492254  ]\n",
      " [ 1.0860013   1.0860013   1.0860013 ]\n",
      " [ 0.67541383  0.67541383  0.67541383]]\n",
      "[[ 1.492254    1.492254    1.492254  ]\n",
      " [ 1.0860013   1.0860013   1.0860013 ]\n",
      " [ 0.67541383  0.67541383  0.67541383]]\n",
      "[[ 1.492254    1.492254    1.492254  ]\n",
      " [ 1.0860013   1.0860013   1.0860013 ]\n",
      " [ 0.67541383  0.67541383  0.67541383]]\n",
      "[[ 1.492254    1.492254    1.492254  ]\n",
      " [ 1.0860013   1.0860013   1.0860013 ]\n",
      " [ 0.67541383  0.67541383  0.67541383]]\n",
      "[[ 1.492254    1.492254    1.492254  ]\n",
      " [ 1.0860013   1.0860013   1.0860013 ]\n",
      " [ 0.67541383  0.67541383  0.67541383]]\n",
      "[[ 1.492254    1.492254    1.492254  ]\n",
      " [ 1.0860013   1.0860013   1.0860013 ]\n",
      " [ 0.67541383  0.67541383  0.67541383]]\n",
      "[[ 1.492254    1.492254    1.492254  ]\n",
      " [ 1.0860013   1.0860013   1.0860013 ]\n",
      " [ 0.67541383  0.67541383  0.67541383]]\n",
      "[[ 1.492254    1.492254    1.492254  ]\n",
      " [ 1.0860013   1.0860013   1.0860013 ]\n",
      " [ 0.67541383  0.67541383  0.67541383]]\n",
      "[[ 1.492254    1.492254    1.492254  ]\n",
      " [ 1.0860013   1.0860013   1.0860013 ]\n",
      " [ 0.67541383  0.67541383  0.67541383]]\n",
      "[[ 1.492254    1.492254    1.492254  ]\n",
      " [ 1.0860013   1.0860013   1.0860013 ]\n",
      " [ 0.67541383  0.67541383  0.67541383]]\n",
      "[[ 1.492254    1.492254    1.492254  ]\n",
      " [ 1.0860013   1.0860013   1.0860013 ]\n",
      " [ 0.67541383  0.67541383  0.67541383]]\n",
      "[[ 1.492254    1.492254    1.492254  ]\n",
      " [ 1.0860013   1.0860013   1.0860013 ]\n",
      " [ 0.67541383  0.67541383  0.67541383]]\n",
      "[[ 1.492254    1.492254    1.492254  ]\n",
      " [ 1.0860013   1.0860013   1.0860013 ]\n",
      " [ 0.67541383  0.67541383  0.67541383]]\n",
      "[[ 1.492254    1.492254    1.492254  ]\n",
      " [ 1.0860013   1.0860013   1.0860013 ]\n",
      " [ 0.67541383  0.67541383  0.67541383]]\n",
      "[[ 1.492254    1.492254    1.492254  ]\n",
      " [ 1.0860013   1.0860013   1.0860013 ]\n",
      " [ 0.67541383  0.67541383  0.67541383]]\n",
      "[[ 1.492254    1.492254    1.492254  ]\n",
      " [ 1.0860013   1.0860013   1.0860013 ]\n",
      " [ 0.67541383  0.67541383  0.67541383]]\n",
      "[[ 1.492254    1.492254    1.492254  ]\n",
      " [ 1.0860013   1.0860013   1.0860013 ]\n",
      " [ 0.67541383  0.67541383  0.67541383]]\n",
      "[[ 1.492254    1.492254    1.492254  ]\n",
      " [ 1.0860013   1.0860013   1.0860013 ]\n",
      " [ 0.67541383  0.67541383  0.67541383]]\n",
      "[[ 1.492254    1.492254    1.492254  ]\n",
      " [ 1.0860013   1.0860013   1.0860013 ]\n",
      " [ 0.67541383  0.67541383  0.67541383]]\n",
      "[[ 1.492254    1.492254    1.492254  ]\n",
      " [ 1.0860013   1.0860013   1.0860013 ]\n",
      " [ 0.67541383  0.67541383  0.67541383]]\n",
      "[[ 1.492254    1.492254    1.492254  ]\n",
      " [ 1.0860013   1.0860013   1.0860013 ]\n",
      " [ 0.67541383  0.67541383  0.67541383]]\n",
      "[[ 1.492254    1.492254    1.492254  ]\n",
      " [ 1.0860013   1.0860013   1.0860013 ]\n",
      " [ 0.67541383  0.67541383  0.67541383]]\n",
      "[[ 1.492254    1.492254    1.492254  ]\n",
      " [ 1.0860013   1.0860013   1.0860013 ]\n",
      " [ 0.67541383  0.67541383  0.67541383]]\n",
      "[[ 1.492254    1.492254    1.492254  ]\n",
      " [ 1.0860013   1.0860013   1.0860013 ]\n",
      " [ 0.67541383  0.67541383  0.67541383]]\n",
      "[[ 1.492254    1.492254    1.492254  ]\n",
      " [ 1.0860013   1.0860013   1.0860013 ]\n",
      " [ 0.67541383  0.67541383  0.67541383]]\n",
      "[[ 1.492254    1.492254    1.492254  ]\n",
      " [ 1.0860013   1.0860013   1.0860013 ]\n",
      " [ 0.67541383  0.67541383  0.67541383]]\n",
      "[[ 1.492254    1.492254    1.492254  ]\n",
      " [ 1.0860013   1.0860013   1.0860013 ]\n",
      " [ 0.67541383  0.67541383  0.67541383]]\n",
      "[[ 1.492254    1.492254    1.492254  ]\n",
      " [ 1.0860013   1.0860013   1.0860013 ]\n",
      " [ 0.67541383  0.67541383  0.67541383]]\n",
      "[[ 1.492254    1.492254    1.492254  ]\n",
      " [ 1.0860013   1.0860013   1.0860013 ]\n",
      " [ 0.67541383  0.67541383  0.67541383]]\n",
      "[[ 1.492254    1.492254    1.492254  ]\n",
      " [ 1.0860013   1.0860013   1.0860013 ]\n",
      " [ 0.67541383  0.67541383  0.67541383]]\n",
      "[[ 1.492254    1.492254    1.492254  ]\n",
      " [ 1.0860013   1.0860013   1.0860013 ]\n",
      " [ 0.67541383  0.67541383  0.67541383]]\n",
      "[[ 1.492254    1.492254    1.492254  ]\n",
      " [ 1.0860013   1.0860013   1.0860013 ]\n",
      " [ 0.67541383  0.67541383  0.67541383]]\n",
      "[[ 1.492254    1.492254    1.492254  ]\n",
      " [ 1.0860013   1.0860013   1.0860013 ]\n",
      " [ 0.67541383  0.67541383  0.67541383]]\n",
      "[[ 1.492254    1.492254    1.492254  ]\n",
      " [ 1.0860013   1.0860013   1.0860013 ]\n",
      " [ 0.67541383  0.67541383  0.67541383]]\n",
      "[[ 1.492254    1.492254    1.492254  ]\n",
      " [ 1.0860013   1.0860013   1.0860013 ]\n",
      " [ 0.67541383  0.67541383  0.67541383]]\n",
      "[[ 1.492254    1.492254    1.492254  ]\n",
      " [ 1.0860013   1.0860013   1.0860013 ]\n",
      " [ 0.67541383  0.67541383  0.67541383]]\n",
      "[[ 1.492254    1.492254    1.492254  ]\n",
      " [ 1.0860013   1.0860013   1.0860013 ]\n",
      " [ 0.67541383  0.67541383  0.67541383]]\n",
      "[[ 1.492254    1.492254    1.492254  ]\n",
      " [ 1.0860013   1.0860013   1.0860013 ]\n",
      " [ 0.67541383  0.67541383  0.67541383]]\n",
      "[[ 1.492254    1.492254    1.492254  ]\n",
      " [ 1.0860013   1.0860013   1.0860013 ]\n",
      " [ 0.67541383  0.67541383  0.67541383]]\n",
      "[[ 1.492254    1.492254    1.492254  ]\n",
      " [ 1.0860013   1.0860013   1.0860013 ]\n",
      " [ 0.67541383  0.67541383  0.67541383]]\n",
      "[[ 1.492254    1.492254    1.492254  ]\n",
      " [ 1.0860013   1.0860013   1.0860013 ]\n",
      " [ 0.67541383  0.67541383  0.67541383]]\n",
      "[[ 1.492254    1.492254    1.492254  ]\n",
      " [ 1.0860013   1.0860013   1.0860013 ]\n",
      " [ 0.67541383  0.67541383  0.67541383]]\n",
      "[[ 1.492254    1.492254    1.492254  ]\n",
      " [ 1.0860013   1.0860013   1.0860013 ]\n",
      " [ 0.67541383  0.67541383  0.67541383]]\n",
      "[[ 1.492254    1.492254    1.492254  ]\n",
      " [ 1.0860013   1.0860013   1.0860013 ]\n",
      " [ 0.67541383  0.67541383  0.67541383]]\n",
      "[[ 1.492254    1.492254    1.492254  ]\n",
      " [ 1.0860013   1.0860013   1.0860013 ]\n",
      " [ 0.67541383  0.67541383  0.67541383]]\n",
      "[[ 1.492254    1.492254    1.492254  ]\n",
      " [ 1.0860013   1.0860013   1.0860013 ]\n",
      " [ 0.67541383  0.67541383  0.67541383]]\n",
      "[[ 1.492254    1.492254    1.492254  ]\n",
      " [ 1.0860013   1.0860013   1.0860013 ]\n",
      " [ 0.67541383  0.67541383  0.67541383]]\n",
      "[[ 1.492254    1.492254    1.492254  ]\n",
      " [ 1.0860013   1.0860013   1.0860013 ]\n",
      " [ 0.67541383  0.67541383  0.67541383]]\n",
      "[[ 1.492254    1.492254    1.492254  ]\n",
      " [ 1.0860013   1.0860013   1.0860013 ]\n",
      " [ 0.67541383  0.67541383  0.67541383]]\n"
     ]
    },
    {
     "name": "stdout",
     "output_type": "stream",
     "text": [
      "[[ 1.492254    1.492254    1.492254  ]\n",
      " [ 1.0860013   1.0860013   1.0860013 ]\n",
      " [ 0.67541383  0.67541383  0.67541383]]\n",
      "[[ 1.492254    1.492254    1.492254  ]\n",
      " [ 1.0860013   1.0860013   1.0860013 ]\n",
      " [ 0.67541383  0.67541383  0.67541383]]\n",
      "[[ 1.492254    1.492254    1.492254  ]\n",
      " [ 1.0860013   1.0860013   1.0860013 ]\n",
      " [ 0.67541383  0.67541383  0.67541383]]\n",
      "[[ 1.492254    1.492254    1.492254  ]\n",
      " [ 1.0860013   1.0860013   1.0860013 ]\n",
      " [ 0.67541383  0.67541383  0.67541383]]\n",
      "[[ 1.492254    1.492254    1.492254  ]\n",
      " [ 1.0860013   1.0860013   1.0860013 ]\n",
      " [ 0.67541383  0.67541383  0.67541383]]\n",
      "[[ 1.492254    1.492254    1.492254  ]\n",
      " [ 1.0860013   1.0860013   1.0860013 ]\n",
      " [ 0.67541383  0.67541383  0.67541383]]\n",
      "[[ 1.492254    1.492254    1.492254  ]\n",
      " [ 1.0860013   1.0860013   1.0860013 ]\n",
      " [ 0.67541383  0.67541383  0.67541383]]\n",
      "[[ 1.492254    1.492254    1.492254  ]\n",
      " [ 1.0860013   1.0860013   1.0860013 ]\n",
      " [ 0.67541383  0.67541383  0.67541383]]\n",
      "[[ 1.492254    1.492254    1.492254  ]\n",
      " [ 1.0860013   1.0860013   1.0860013 ]\n",
      " [ 0.67541383  0.67541383  0.67541383]]\n",
      "[[ 1.492254    1.492254    1.492254  ]\n",
      " [ 1.0860013   1.0860013   1.0860013 ]\n",
      " [ 0.67541383  0.67541383  0.67541383]]\n",
      "[[ 1.492254    1.492254    1.492254  ]\n",
      " [ 1.0860013   1.0860013   1.0860013 ]\n",
      " [ 0.67541383  0.67541383  0.67541383]]\n",
      "[[ 1.492254    1.492254    1.492254  ]\n",
      " [ 1.0860013   1.0860013   1.0860013 ]\n",
      " [ 0.67541383  0.67541383  0.67541383]]\n",
      "[[ 1.492254    1.492254    1.492254  ]\n",
      " [ 1.0860013   1.0860013   1.0860013 ]\n",
      " [ 0.67541383  0.67541383  0.67541383]]\n",
      "[[ 1.492254    1.492254    1.492254  ]\n",
      " [ 1.0860013   1.0860013   1.0860013 ]\n",
      " [ 0.67541383  0.67541383  0.67541383]]\n",
      "[[ 1.492254    1.492254    1.492254  ]\n",
      " [ 1.0860013   1.0860013   1.0860013 ]\n",
      " [ 0.67541383  0.67541383  0.67541383]]\n",
      "[[ 1.492254    1.492254    1.492254  ]\n",
      " [ 1.0860013   1.0860013   1.0860013 ]\n",
      " [ 0.67541383  0.67541383  0.67541383]]\n",
      "[[ 1.492254    1.492254    1.492254  ]\n",
      " [ 1.0860013   1.0860013   1.0860013 ]\n",
      " [ 0.67541383  0.67541383  0.67541383]]\n",
      "[[ 1.492254    1.492254    1.492254  ]\n",
      " [ 1.0860013   1.0860013   1.0860013 ]\n",
      " [ 0.67541383  0.67541383  0.67541383]]\n",
      "[[ 1.492254    1.492254    1.492254  ]\n",
      " [ 1.0860013   1.0860013   1.0860013 ]\n",
      " [ 0.67541383  0.67541383  0.67541383]]\n",
      "[[ 1.492254    1.492254    1.492254  ]\n",
      " [ 1.0860013   1.0860013   1.0860013 ]\n",
      " [ 0.67541383  0.67541383  0.67541383]]\n",
      "[[ 1.492254    1.492254    1.492254  ]\n",
      " [ 1.0860013   1.0860013   1.0860013 ]\n",
      " [ 0.67541383  0.67541383  0.67541383]]\n",
      "[[ 1.492254    1.492254    1.492254  ]\n",
      " [ 1.0860013   1.0860013   1.0860013 ]\n",
      " [ 0.67541383  0.67541383  0.67541383]]\n",
      "[[ 1.492254    1.492254    1.492254  ]\n",
      " [ 1.0860013   1.0860013   1.0860013 ]\n",
      " [ 0.67541383  0.67541383  0.67541383]]\n",
      "[[ 1.492254    1.492254    1.492254  ]\n",
      " [ 1.0860013   1.0860013   1.0860013 ]\n",
      " [ 0.67541383  0.67541383  0.67541383]]\n",
      "[[ 1.492254    1.492254    1.492254  ]\n",
      " [ 1.0860013   1.0860013   1.0860013 ]\n",
      " [ 0.67541383  0.67541383  0.67541383]]\n",
      "[[ 1.492254    1.492254    1.492254  ]\n",
      " [ 1.0860013   1.0860013   1.0860013 ]\n",
      " [ 0.67541383  0.67541383  0.67541383]]\n",
      "[[ 1.492254    1.492254    1.492254  ]\n",
      " [ 1.0860013   1.0860013   1.0860013 ]\n",
      " [ 0.67541383  0.67541383  0.67541383]]\n",
      "[[ 1.492254    1.492254    1.492254  ]\n",
      " [ 1.0860013   1.0860013   1.0860013 ]\n",
      " [ 0.67541383  0.67541383  0.67541383]]\n",
      "[[ 1.492254    1.492254    1.492254  ]\n",
      " [ 1.0860013   1.0860013   1.0860013 ]\n",
      " [ 0.67541383  0.67541383  0.67541383]]\n",
      "[[ 1.492254    1.492254    1.492254  ]\n",
      " [ 1.0860013   1.0860013   1.0860013 ]\n",
      " [ 0.67541383  0.67541383  0.67541383]]\n",
      "[[ 1.492254    1.492254    1.492254  ]\n",
      " [ 1.0860013   1.0860013   1.0860013 ]\n",
      " [ 0.67541383  0.67541383  0.67541383]]\n",
      "[[ 1.492254    1.492254    1.492254  ]\n",
      " [ 1.0860013   1.0860013   1.0860013 ]\n",
      " [ 0.67541383  0.67541383  0.67541383]]\n",
      "[[ 1.492254    1.492254    1.492254  ]\n",
      " [ 1.0860013   1.0860013   1.0860013 ]\n",
      " [ 0.67541383  0.67541383  0.67541383]]\n",
      "[[ 1.492254    1.492254    1.492254  ]\n",
      " [ 1.0860013   1.0860013   1.0860013 ]\n",
      " [ 0.67541383  0.67541383  0.67541383]]\n",
      "[[ 1.492254    1.492254    1.492254  ]\n",
      " [ 1.0860013   1.0860013   1.0860013 ]\n",
      " [ 0.67541383  0.67541383  0.67541383]]\n",
      "10878.651230681708\n",
      "3\n",
      "[[ 1.10798014  1.10798014  1.10798014]\n",
      " [ 0.          0.          0.        ]\n",
      " [ 0.          0.          0.        ]\n",
      " [ 0.          0.          0.        ]\n",
      " [ 0.          0.          0.        ]\n",
      " [ 0.          0.          0.        ]\n",
      " [ 0.          0.          0.        ]]\n",
      "[[ 1.14663061  1.14663061  1.14663061]\n",
      " [ 0.43308336  0.43308336  0.43308336]\n",
      " [ 0.          0.          0.        ]\n",
      " [ 0.          0.          0.        ]\n",
      " [ 0.          0.          0.        ]\n",
      " [ 0.          0.          0.        ]\n",
      " [ 0.          0.          0.        ]]\n",
      "[[ 1.20877267  1.20877267  1.20877267]\n",
      " [ 0.61214397  0.61214397  0.61214397]\n",
      " [ 0.08134919  0.08134919  0.08134919]\n",
      " [ 0.          0.          0.        ]\n",
      " [ 0.          0.          0.        ]\n",
      " [ 0.          0.          0.        ]\n",
      " [ 0.          0.          0.        ]]\n",
      "[[ 1.25901176  1.25901176  1.25901176]\n",
      " [ 0.71575627  0.71575627  0.71575627]\n",
      " [ 0.27147337  0.27147337  0.27147337]\n",
      " [-0.06458304 -0.06458304 -0.06458304]\n",
      " [ 0.          0.          0.        ]\n",
      " [ 0.          0.          0.        ]\n",
      " [ 0.          0.          0.        ]]\n",
      "[[ 1.30044437  1.30044437  1.30044437]\n",
      " [ 0.80183263  0.80183263  0.80183263]\n",
      " [ 0.3937809   0.3937809   0.3937809 ]\n",
      " [-0.10061713 -0.10061713 -0.10061713]\n",
      " [-0.02854894 -0.02854894 -0.02854894]\n",
      " [ 0.          0.          0.        ]\n",
      " [ 0.          0.          0.        ]]\n",
      "[[ 1.33781169  1.33781169  1.33781169]\n",
      " [ 0.87147816  0.87147816  0.87147816]\n",
      " [ 0.47645355  0.47645355  0.47645355]\n",
      " [-0.10061713 -0.10061713 -0.10061713]\n",
      " [-0.02854894 -0.02854894 -0.02854894]\n",
      " [ 0.15997174  0.15997174  0.15997174]\n",
      " [ 0.          0.          0.        ]]\n",
      "[[ 1.37022333  1.37022333  1.37022333]\n",
      " [ 0.92397762  0.92397762  0.92397762]\n",
      " [ 0.54579255  0.54579255  0.54579255]\n",
      " [-0.10061713 -0.10061713 -0.10061713]\n",
      " [-0.02854894 -0.02854894 -0.02854894]\n",
      " [ 0.26481758  0.26481758  0.26481758]\n",
      " [ 0.          0.          0.        ]]\n",
      "[[ 1.39407487  1.39407487  1.39407487]\n",
      " [ 0.9589661   0.9589661   0.9589661 ]\n",
      " [ 0.59321056  0.59321056  0.59321056]\n",
      " [-0.10061713 -0.10061713 -0.10061713]\n",
      " [-0.02854894 -0.02854894 -0.02854894]\n",
      " [ 0.31752381  0.31752381  0.31752381]\n",
      " [ 0.          0.          0.        ]]\n",
      "[[ 1.41519256  1.41519256  1.41519256]\n",
      " [ 0.99143861  0.99143861  0.99143861]\n",
      " [ 0.64243004  0.64243004  0.64243004]\n",
      " [-0.10061713 -0.10061713 -0.10061713]\n",
      " [-0.02854894 -0.02854894 -0.02854894]\n",
      " [ 0.36502295  0.36502295  0.36502295]\n",
      " [ 0.          0.          0.        ]]\n",
      "[[ 1.43123113  1.43123113  1.43123113]\n",
      " [ 1.02094068  1.02094068  1.02094068]\n",
      " [ 0.6897186   0.6897186   0.6897186 ]\n",
      " [-0.10061713 -0.10061713 -0.10061713]\n",
      " [-0.02854894 -0.02854894 -0.02854894]\n",
      " [ 0.40648825  0.40648825  0.40648825]\n",
      " [ 0.15997174  0.15997174  0.15997174]]\n",
      "[[ 1.44838263  1.44838263  1.44838263]\n",
      " [ 1.04626069  1.04626069  1.04626069]\n",
      " [ 0.72721686  0.72721686  0.72721686]\n",
      " [-0.10061713 -0.10061713 -0.10061713]\n",
      " [-0.02854894 -0.02854894 -0.02854894]\n",
      " [ 0.45291364  0.45291364  0.45291364]\n",
      " [ 0.22709115  0.22709115  0.22709115]]\n",
      "[[ 1.46280003  1.46280003  1.46280003]\n",
      " [ 1.06818824  1.06818824  1.06818824]\n",
      " [ 0.76250636  0.76250636  0.76250636]\n",
      " [-0.10061713 -0.10061713 -0.10061713]\n",
      " [-0.02854894 -0.02854894 -0.02854894]\n",
      " [ 0.49608352  0.49608352  0.49608352]\n",
      " [ 0.27147337  0.27147337  0.27147337]]\n",
      "[[ 1.47423729  1.47423729  1.47423729]\n",
      " [ 1.08982798  1.08982798  1.08982798]\n",
      " [ 0.79582455  0.79582455  0.79582455]\n",
      " [-0.10061713 -0.10061713 -0.10061713]\n",
      " [-0.02854894 -0.02854894 -0.02854894]\n",
      " [ 0.52717854  0.52717854  0.52717854]\n",
      " [ 0.30241692  0.30241692  0.30241692]]\n",
      "[[ 1.48715002  1.48715002  1.48715002]\n",
      " [ 1.10955435  1.10955435  1.10955435]\n",
      " [ 0.82437611  0.82437611  0.82437611]\n",
      " [-0.10061713 -0.10061713 -0.10061713]\n",
      " [-0.02854894 -0.02854894 -0.02854894]\n",
      " [ 0.55754512  0.55754512  0.55754512]\n",
      " [ 0.32916441  0.32916441  0.32916441]]\n",
      "[[ 1.49915938  1.49915938  1.49915938]\n",
      " [ 1.12956075  1.12956075  1.12956075]\n",
      " [ 0.84923364  0.84923364  0.84923364]\n",
      " [-0.10061713 -0.10061713 -0.10061713]\n",
      " [-0.02854894 -0.02854894 -0.02854894]\n",
      " [ 0.58077632  0.58077632  0.58077632]\n"
     ]
    },
    {
     "name": "stdout",
     "output_type": "stream",
     "text": [
      " [ 0.35054145  0.35054145  0.35054145]]\n",
      "[[ 1.51077554  1.51077554  1.51077554]\n",
      " [ 1.14840552  1.14840552  1.14840552]\n",
      " [ 0.86840078  0.86840078  0.86840078]\n",
      " [-0.10061713 -0.10061713 -0.10061713]\n",
      " [ 0.09713151  0.09713151  0.09713151]\n",
      " [ 0.60074863  0.60074863  0.60074863]\n",
      " [ 0.38002198  0.38002198  0.38002198]]\n",
      "[[ 1.52119423  1.52119423  1.52119423]\n",
      " [ 1.16461632  1.16461632  1.16461632]\n",
      " [ 0.88585257  0.88585257  0.88585257]\n",
      " [-0.06458304 -0.06458304 -0.06458304]\n",
      " [ 0.19879988  0.19879988  0.19879988]\n",
      " [ 0.62085414  0.62085414  0.62085414]\n",
      " [ 0.40169062  0.40169062  0.40169062]]\n",
      "[[ 1.53034673  1.53034673  1.53034673]\n",
      " [ 1.18007581  1.18007581  1.18007581]\n",
      " [ 0.90403435  0.90403435  0.90403435]\n",
      " [-0.06458304 -0.06458304 -0.06458304]\n",
      " [ 0.24730872  0.24730872  0.24730872]\n",
      " [ 0.6426686   0.6426686   0.6426686 ]\n",
      " [ 0.4302458   0.4302458   0.4302458 ]]\n",
      "[[ 1.54321775  1.54321775  1.54321775]\n",
      " [ 1.19584878  1.19584878  1.19584878]\n",
      " [ 0.92046587  0.92046587  0.92046587]\n",
      " [-0.06458304 -0.06458304 -0.06458304]\n",
      " [ 0.27147337  0.27147337  0.27147337]\n",
      " [ 0.66891372  0.66891372  0.66891372]\n",
      " [ 0.46131195  0.46131195  0.46131195]]\n",
      "[[ 1.55480928  1.55480928  1.55480928]\n",
      " [ 1.20966511  1.20966511  1.20966511]\n",
      " [ 0.93850248  0.93850248  0.93850248]\n",
      " [-0.06458304 -0.06458304 -0.06458304]\n",
      " [ 0.28767903  0.28767903  0.28767903]\n",
      " [ 0.69753294  0.69753294  0.69753294]\n",
      " [ 0.48399512  0.48399512  0.48399512]]\n",
      "[[ 1.5631946   1.5631946   1.5631946 ]\n",
      " [ 1.22217904  1.22217904  1.22217904]\n",
      " [ 0.95681876  0.95681876  0.95681876]\n",
      " [-0.06458304 -0.06458304 -0.06458304]\n",
      " [ 0.30241692  0.30241692  0.30241692]\n",
      " [ 0.72433481  0.72433481  0.72433481]\n",
      " [ 0.50614302  0.50614302  0.50614302]]\n",
      "[[ 1.57541467  1.57541467  1.57541467]\n",
      " [ 1.23736797  1.23736797  1.23736797]\n",
      " [ 0.97354687  0.97354687  0.97354687]\n",
      " [-0.06458304 -0.06458304 -0.06458304]\n",
      " [ 0.31502549  0.31502549  0.31502549]\n",
      " [ 0.74420285  0.74420285  0.74420285]\n",
      " [ 0.52269463  0.52269463  0.52269463]]\n",
      "[[ 1.58466557  1.58466557  1.58466557]\n",
      " [ 1.24983512  1.24983512  1.24983512]\n",
      " [ 0.98759085  0.98759085  0.98759085]\n",
      " [-0.06458304 -0.06458304 -0.06458304]\n",
      " [ 0.32916441  0.32916441  0.32916441]\n",
      " [ 0.76202796  0.76202796  0.76202796]\n",
      " [ 0.53977145  0.53977145  0.53977145]]\n",
      "[[ 1.59212252  1.59212252  1.59212252]\n",
      " [ 1.26043468  1.26043468  1.26043468]\n",
      " [ 1.00000211  1.00000211  1.00000211]\n",
      " [-0.06458304 -0.06458304 -0.06458304]\n",
      " [ 0.3433002   0.3433002   0.3433002 ]\n",
      " [ 0.77989197  0.77989197  0.77989197]\n",
      " [ 0.55824194  0.55824194  0.55824194]]\n",
      "[[ 1.59887374  1.59887374  1.59887374]\n",
      " [ 1.26823901  1.26823901  1.26823901]\n",
      " [ 1.01053862  1.01053862  1.01053862]\n",
      " [-0.06458304 -0.06458304 -0.06458304]\n",
      " [ 0.3604909   0.3604909   0.3604909 ]\n",
      " [ 0.79480686  0.79480686  0.79480686]\n",
      " [ 0.57361801  0.57361801  0.57361801]]\n",
      "[[ 1.60542772  1.60542772  1.60542772]\n",
      " [ 1.27489936  1.27489936  1.27489936]\n",
      " [ 1.01973804  1.01973804  1.01973804]\n",
      " [-0.06458304 -0.06458304 -0.06458304]\n",
      " [ 0.37615015  0.37615015  0.37615015]\n",
      " [ 0.80706375  0.80706375  0.80706375]\n",
      " [ 0.58723691  0.58723691  0.58723691]]\n",
      "[[ 1.61083019  1.61083019  1.61083019]\n",
      " [ 1.28227789  1.28227789  1.28227789]\n",
      " [ 1.03017335  1.03017335  1.03017335]\n",
      " [-0.06458304 -0.06458304 -0.06458304]\n",
      " [ 0.38506512  0.38506512  0.38506512]\n",
      " [ 0.81803655  0.81803655  0.81803655]\n",
      " [ 0.59697306  0.59697306  0.59697306]]\n",
      "[[ 1.6168497   1.6168497   1.6168497 ]\n",
      " [ 1.29113248  1.29113248  1.29113248]\n",
      " [ 1.04106622  1.04106622  1.04106622]\n",
      " [ 0.0101556   0.0101556   0.0101556 ]\n",
      " [ 0.39426004  0.39426004  0.39426004]\n",
      " [ 0.82891993  0.82891993  0.82891993]\n",
      " [ 0.60737322  0.60737322  0.60737322]]\n",
      "[[ 1.61964716  1.61964716  1.61964716]\n",
      " [ 1.29738332  1.29738332  1.29738332]\n",
      " [ 1.049382    1.049382    1.049382  ]\n",
      " [ 0.04769435  0.04769435  0.04769435]\n",
      " [ 0.40420611  0.40420611  0.40420611]\n",
      " [ 0.83532917  0.83532917  0.83532917]\n",
      " [ 0.61403302  0.61403302  0.61403302]]\n",
      "[[ 1.62339697  1.62339697  1.62339697]\n",
      " [ 1.30342945  1.30342945  1.30342945]\n",
      " [ 1.05668018  1.05668018  1.05668018]\n",
      " [ 0.10502062  0.10502062  0.10502062]\n",
      " [ 0.41414934  0.41414934  0.41414934]\n",
      " [ 0.84113704  0.84113704  0.84113704]\n",
      " [ 0.61956588  0.61956588  0.61956588]]\n",
      "[[ 1.628691    1.628691    1.628691  ]\n",
      " [ 1.30984325  1.30984325  1.30984325]\n",
      " [ 1.0650165   1.0650165   1.0650165 ]\n",
      " [ 0.15187458  0.15187458  0.15187458]\n",
      " [ 0.42333849  0.42333849  0.42333849]\n",
      " [ 0.85047592  0.85047592  0.85047592]\n",
      " [ 0.6274432   0.6274432   0.6274432 ]]\n",
      "[[ 1.63163537  1.63163537  1.63163537]\n",
      " [ 1.31575922  1.31575922  1.31575922]\n",
      " [ 1.07251296  1.07251296  1.07251296]\n",
      " [ 0.18323695  0.18323695  0.18323695]\n",
      " [ 0.43356709  0.43356709  0.43356709]\n",
      " [ 0.85801674  0.85801674  0.85801674]\n",
      " [ 0.63658714  0.63658714  0.63658714]]\n",
      "[[ 1.63608923  1.63608923  1.63608923]\n",
      " [ 1.32125865  1.32125865  1.32125865]\n",
      " [ 1.0787233   1.0787233   1.0787233 ]\n",
      " [ 0.21761905  0.21761905  0.21761905]\n",
      " [ 0.45163066  0.45163066  0.45163066]\n",
      " [ 0.86475419  0.86475419  0.86475419]\n",
      " [ 0.64759524  0.64759524  0.64759524]]\n",
      "[[ 1.63911659  1.63911659  1.63911659]\n",
      " [ 1.32508435  1.32508435  1.32508435]\n",
      " [ 1.08475311  1.08475311  1.08475311]\n",
      " [ 0.24092278  0.24092278  0.24092278]\n",
      " [ 0.46995219  0.46995219  0.46995219]\n",
      " [ 0.87294149  0.87294149  0.87294149]\n",
      " [ 0.6614249   0.6614249   0.6614249 ]]\n",
      "[[ 1.64165979  1.64165979  1.64165979]\n",
      " [ 1.32905382  1.32905382  1.32905382]\n",
      " [ 1.09120721  1.09120721  1.09120721]\n",
      " [ 0.25370833  0.25370833  0.25370833]\n",
      " [ 0.48180142  0.48180142  0.48180142]\n",
      " [ 0.8829019   0.8829019   0.8829019 ]\n",
      " [ 0.67642885  0.67642885  0.67642885]]\n",
      "[[ 1.6437149   1.6437149   1.6437149 ]\n",
      " [ 1.33507379  1.33507379  1.33507379]\n",
      " [ 1.09963177  1.09963177  1.09963177]\n",
      " [ 0.26158555  0.26158555  0.26158555]\n",
      " [ 0.493935    0.493935    0.493935  ]\n",
      " [ 0.89210238  0.89210238  0.89210238]\n",
      " [ 0.69128632  0.69128632  0.69128632]]\n",
      "[[ 1.64576164  1.64576164  1.64576164]\n",
      " [ 1.33977143  1.33977143  1.33977143]\n",
      " [ 1.10673865  1.10673865  1.10673865]\n",
      " [ 0.27617813  0.27617813  0.27617813]\n",
      " [ 0.50711531  0.50711531  0.50711531]\n",
      " [ 0.9023422   0.9023422   0.9023422 ]\n",
      " [ 0.70727377  0.70727377  0.70727377]]\n",
      "[[ 1.64835653  1.64835653  1.64835653]\n",
      " [ 1.34390979  1.34390979  1.34390979]\n",
      " [ 1.11308697  1.11308697  1.11308697]\n",
      " [ 0.29172829  0.29172829  0.29172829]\n",
      " [ 0.51795962  0.51795962  0.51795962]\n",
      " [ 0.91261532  0.91261532  0.91261532]\n",
      " [ 0.7202861   0.7202861   0.7202861 ]]\n",
      "[[ 1.64939149  1.64939149  1.64939149]\n",
      " [ 1.34647833  1.34647833  1.34647833]\n",
      " [ 1.11914286  1.11914286  1.11914286]\n",
      " [ 0.29450611  0.29450611  0.29450611]\n",
      " [ 0.52461011  0.52461011  0.52461011]\n",
      " [ 0.92371742  0.92371742  0.92371742]\n",
      " [ 0.73296598  0.73296598  0.73296598]]\n",
      "[[ 1.65095297  1.65095297  1.65095297]\n",
      " [ 1.34930438  1.34930438  1.34930438]\n",
      " [ 1.12683325  1.12683325  1.12683325]\n",
      " [ 0.29741292  0.29741292  0.29741292]\n",
      " [ 0.53227172  0.53227172  0.53227172]\n",
      " [ 0.93397835  0.93397835  0.93397835]\n",
      " [ 0.74296818  0.74296818  0.74296818]]\n",
      "[[ 1.65252099  1.65252099  1.65252099]\n",
      " [ 1.35338438  1.35338438  1.35338438]\n",
      " [ 1.13448523  1.13448523  1.13448523]\n",
      " [ 0.31085058  0.31085058  0.31085058]\n",
      " [ 0.54375765  0.54375765  0.54375765]\n",
      " [ 0.94328401  0.94328401  0.94328401]\n",
      " [ 0.75444648  0.75444648  0.75444648]]\n",
      "[[ 1.65409807  1.65409807  1.65409807]\n",
      " [ 1.35795216  1.35795216  1.35795216]\n",
      " [ 1.14286736  1.14286736  1.14286736]\n",
      " [ 0.32031365  0.32031365  0.32031365]\n",
      " [ 0.55505545  0.55505545  0.55505545]\n",
      " [ 0.95122488  0.95122488  0.95122488]\n",
      " [ 0.76450319  0.76450319  0.76450319]]\n",
      "[[ 1.65782506  1.65782506  1.65782506]\n",
      " [ 1.36407937  1.36407937  1.36407937]\n",
      " [ 1.14938637  1.14938637  1.14938637]\n",
      " [ 0.32909252  0.32909252  0.32909252]\n",
      " [ 0.56271533  0.56271533  0.56271533]\n",
      " [ 0.95753068  0.95753068  0.95753068]\n",
      " [ 0.77294025  0.77294025  0.77294025]]\n",
      "[[ 1.66219783  1.66219783  1.66219783]\n",
      " [ 1.36860301  1.36860301  1.36860301]\n",
      " [ 1.15497841  1.15497841  1.15497841]\n",
      " [ 0.34090146  0.34090146  0.34090146]\n",
      " [ 0.57054526  0.57054526  0.57054526]\n",
      " [ 0.9641459   0.9641459   0.9641459 ]\n",
      " [ 0.77979924  0.77979924  0.77979924]]\n",
      "[[ 1.66609531  1.66609531  1.66609531]\n",
      " [ 1.37285664  1.37285664  1.37285664]\n",
      " [ 1.15954596  1.15954596  1.15954596]\n",
      " [ 0.35138467  0.35138467  0.35138467]\n",
      " [ 0.57823492  0.57823492  0.57823492]\n",
      " [ 0.96940118  0.96940118  0.96940118]\n"
     ]
    },
    {
     "name": "stdout",
     "output_type": "stream",
     "text": [
      " [ 0.78625468  0.78625468  0.78625468]]\n",
      "[[ 1.67071561  1.67071561  1.67071561]\n",
      " [ 1.37739624  1.37739624  1.37739624]\n",
      " [ 1.16411964  1.16411964  1.16411964]\n",
      " [ 0.36075661  0.36075661  0.36075661]\n",
      " [ 0.58431948  0.58431948  0.58431948]\n",
      " [ 0.97401903  0.97401903  0.97401903]\n",
      " [ 0.79071056  0.79071056  0.79071056]]\n",
      "[[ 1.67188037  1.67188037  1.67188037]\n",
      " [ 1.38076091  1.38076091  1.38076091]\n",
      " [ 1.16814979  1.16814979  1.16814979]\n",
      " [ 0.36804287  0.36804287  0.36804287]\n",
      " [ 0.59076269  0.59076269  0.59076269]\n",
      " [ 0.97755148  0.97755148  0.97755148]\n",
      " [ 0.79544133  0.79544133  0.79544133]]\n",
      "[[ 1.67540602  1.67540602  1.67540602]\n",
      " [ 1.38553804  1.38553804  1.38553804]\n",
      " [ 1.17303268  1.17303268  1.17303268]\n",
      " [ 0.37353568  0.37353568  0.37353568]\n",
      " [ 0.59697306  0.59697306  0.59697306]\n",
      " [ 0.9814262   0.9814262   0.9814262 ]\n",
      " [ 0.79993189  0.79993189  0.79993189]]\n",
      "[[ 1.68024826  1.68024826  1.68024826]\n",
      " [ 1.39002676  1.39002676  1.39002676]\n",
      " [ 1.1772268   1.1772268   1.1772268 ]\n",
      " [ 0.37628727  0.37628727  0.37628727]\n",
      " [ 0.59980534  0.59980534  0.59980534]\n",
      " [ 0.98563058  0.98563058  0.98563058]\n",
      " [ 0.80352461  0.80352461  0.80352461]]\n",
      "[[ 1.68401986  1.68401986  1.68401986]\n",
      " [ 1.39396269  1.39396269  1.39396269]\n",
      " [ 1.18199001  1.18199001  1.18199001]\n",
      " [ 0.37765357  0.37765357  0.37765357]\n",
      " [ 0.60199887  0.60199887  0.60199887]\n",
      " [ 0.99014839  0.99014839  0.99014839]\n",
      " [ 0.80681763  0.80681763  0.80681763]]\n",
      "[[ 1.68721184  1.68721184  1.68721184]\n",
      " [ 1.39859149  1.39859149  1.39859149]\n",
      " [ 1.18695664  1.18695664  1.18695664]\n",
      " [ 0.37765357  0.37765357  0.37765357]\n",
      " [ 0.60358419  0.60358419  0.60358419]\n",
      " [ 0.9944674   0.9944674   0.9944674 ]\n",
      " [ 0.81057805  0.81057805  0.81057805]]\n",
      "[[ 1.68915326  1.68915326  1.68915326]\n",
      " [ 1.40196937  1.40196937  1.40196937]\n",
      " [ 1.19120627  1.19120627  1.19120627]\n",
      " [ 0.37902897  0.37902897  0.37902897]\n",
      " [ 0.60626445  0.60626445  0.60626445]\n",
      " [ 0.99824109  0.99824109  0.99824109]\n",
      " [ 0.81409693  0.81409693  0.81409693]]\n",
      "[[ 1.69108859  1.69108859  1.69108859]\n",
      " [ 1.40493359  1.40493359  1.40493359]\n",
      " [ 1.1960412   1.1960412   1.1960412 ]\n",
      " [ 0.38299586  0.38299586  0.38299586]\n",
      " [ 0.60908719  0.60908719  0.60908719]\n",
      " [ 1.00286233  1.00286233  1.00286233]\n",
      " [ 0.81695788  0.81695788  0.81695788]]\n",
      "[[ 1.69371509  1.69371509  1.69371509]\n",
      " [ 1.40892401  1.40892401  1.40892401]\n",
      " [ 1.19995407  1.19995407  1.19995407]\n",
      " [ 0.38299586  0.38299586  0.38299586]\n",
      " [ 0.61064474  0.61064474  0.61064474]\n",
      " [ 1.0062509   1.0062509   1.0062509 ]\n",
      " [ 0.82033424  0.82033424  0.82033424]]\n",
      "[[ 1.69704889  1.69704889  1.69704889]\n",
      " [ 1.41280482  1.41280482  1.41280482]\n",
      " [ 1.20329106  1.20329106  1.20329106]\n",
      " [ 0.38560786  0.38560786  0.38560786]\n",
      " [ 0.61234236  0.61234236  0.61234236]\n",
      " [ 1.01004042  1.01004042  1.01004042]\n",
      " [ 0.82376583  0.82376583  0.82376583]]\n",
      "[[ 1.70115561  1.70115561  1.70115561]\n",
      " [ 1.41727612  1.41727612  1.41727612]\n",
      " [ 1.20680131  1.20680131  1.20680131]\n",
      " [ 0.38560786  0.38560786  0.38560786]\n",
      " [ 0.61287741  0.61287741  0.61287741]\n",
      " [ 1.01366286  1.01366286  1.01366286]\n",
      " [ 0.82689392  0.82689392  0.82689392]]\n",
      "[[ 1.70466091  1.70466091  1.70466091]\n",
      " [ 1.42025777  1.42025777  1.42025777]\n",
      " [ 1.2101514   1.2101514   1.2101514 ]\n",
      " [ 0.38560786  0.38560786  0.38560786]\n",
      " [ 0.61394294  0.61394294  0.61394294]\n",
      " [ 1.01669043  1.01669043  1.01669043]\n",
      " [ 0.82863026  0.82863026  0.82863026]]\n",
      "[[ 1.70607591  1.70607591  1.70607591]\n",
      " [ 1.42256598  1.42256598  1.42256598]\n",
      " [ 1.21239237  1.21239237  1.21239237]\n",
      " [ 0.38560786  0.38560786  0.38560786]\n",
      " [ 0.61447521  0.61447521  0.61447521]\n",
      " [ 1.01867104  1.01867104  1.01867104]\n",
      " [ 0.83032174  0.83032174  0.83032174]]\n",
      "[[ 1.70821675  1.70821675  1.70821675]\n",
      " [ 1.42447465  1.42447465  1.42447465]\n",
      " [ 1.21424406  1.21424406  1.21424406]\n",
      " [ 0.3869074   0.3869074   0.3869074 ]\n",
      " [ 0.61505063  0.61505063  0.61505063]\n",
      " [ 1.02083977  1.02083977  1.02083977]\n",
      " [ 0.83172468  0.83172468  0.83172468]]\n",
      "[[ 1.71040193  1.71040193  1.71040193]\n",
      " [ 1.42662062  1.42662062  1.42662062]\n",
      " [ 1.21648471  1.21648471  1.21648471]\n",
      " [ 0.38818311  0.38818311  0.38818311]\n",
      " [ 0.61616978  0.61616978  0.61616978]\n",
      " [ 1.02300053  1.02300053  1.02300053]\n",
      " [ 0.83315645  0.83315645  0.83315645]]\n",
      "[[ 1.71261944  1.71261944  1.71261944]\n",
      " [ 1.42878205  1.42878205  1.42878205]\n",
      " [ 1.21854309  1.21854309  1.21854309]\n",
      " [ 0.38818311  0.38818311  0.38818311]\n",
      " [ 0.61671158  0.61671158  0.61671158]\n",
      " [ 1.02443342  1.02443342  1.02443342]\n",
      " [ 0.83389089  0.83389089  0.83389089]]\n",
      "[[ 1.71640173  1.71640173  1.71640173]\n",
      " [ 1.43159146  1.43159146  1.43159146]\n",
      " [ 1.22005022  1.22005022  1.22005022]\n",
      " [ 0.38818311  0.38818311  0.38818311]\n",
      " [ 0.61778517  0.61778517  0.61778517]\n",
      " [ 1.0256905   1.0256905   1.0256905 ]\n",
      " [ 0.83535897  0.83535897  0.83535897]]\n",
      "[[ 1.71872113  1.71872113  1.71872113]\n",
      " [ 1.43377812  1.43377812  1.43377812]\n",
      " [ 1.22155997  1.22155997  1.22155997]\n",
      " [ 0.38818311  0.38818311  0.38818311]\n",
      " [ 0.61832051  0.61832051  0.61832051]\n",
      " [ 1.02658964  1.02658964  1.02658964]\n",
      " [ 0.83608736  0.83608736  0.83608736]]\n",
      "[[ 1.71949204  1.71949204  1.71949204]\n",
      " [ 1.43533853  1.43533853  1.43533853]\n",
      " [ 1.22270287  1.22270287  1.22270287]\n",
      " [ 0.38818311  0.38818311  0.38818311]\n",
      " [ 0.61938038  0.61938038  0.61938038]\n",
      " [ 1.02677122  1.02677122  1.02677122]\n",
      " [ 0.83662495  0.83662495  0.83662495]]\n",
      "[[ 1.71949204  1.71949204  1.71949204]\n",
      " [ 1.43583145  1.43583145  1.43583145]\n",
      " [ 1.22309033  1.22309033  1.22309033]\n",
      " [ 0.39071709  0.39071709  0.39071709]\n",
      " [ 0.62309742  0.62309742  0.62309742]\n",
      " [ 1.02677122  1.02677122  1.02677122]\n",
      " [ 0.83798376  0.83798376  0.83798376]]\n",
      "[[ 1.71949204  1.71949204  1.71949204]\n",
      " [ 1.43583145  1.43583145  1.43583145]\n",
      " [ 1.22309033  1.22309033  1.22309033]\n",
      " [ 0.39320452  0.39320452  0.39320452]\n",
      " [ 0.62524544  0.62524544  0.62524544]\n",
      " [ 1.02677122  1.02677122  1.02677122]\n",
      " [ 0.83852615  0.83852615  0.83852615]]\n",
      "[[ 1.71949204  1.71949204  1.71949204]\n",
      " [ 1.43583145  1.43583145  1.43583145]\n",
      " [ 1.22309033  1.22309033  1.22309033]\n",
      " [ 0.39441772  0.39441772  0.39441772]\n",
      " [ 0.62682292  0.62682292  0.62682292]\n",
      " [ 1.02677122  1.02677122  1.02677122]\n",
      " [ 0.83906738  0.83906738  0.83906738]]\n",
      "[[ 1.71949204  1.71949204  1.71949204]\n",
      " [ 1.43583145  1.43583145  1.43583145]\n",
      " [ 1.22309033  1.22309033  1.22309033]\n",
      " [ 0.39441772  0.39441772  0.39441772]\n",
      " [ 0.62682292  0.62682292  0.62682292]\n",
      " [ 1.02677122  1.02677122  1.02677122]\n",
      " [ 0.83906738  0.83906738  0.83906738]]\n",
      "[[ 1.71949204  1.71949204  1.71949204]\n",
      " [ 1.43583145  1.43583145  1.43583145]\n",
      " [ 1.22309033  1.22309033  1.22309033]\n",
      " [ 0.39441772  0.39441772  0.39441772]\n",
      " [ 0.62682292  0.62682292  0.62682292]\n",
      " [ 1.02677122  1.02677122  1.02677122]\n",
      " [ 0.83906738  0.83906738  0.83906738]]\n",
      "[[ 1.71949204  1.71949204  1.71949204]\n",
      " [ 1.43583145  1.43583145  1.43583145]\n",
      " [ 1.22309033  1.22309033  1.22309033]\n",
      " [ 0.39441772  0.39441772  0.39441772]\n",
      " [ 0.62682292  0.62682292  0.62682292]\n",
      " [ 1.02677122  1.02677122  1.02677122]\n",
      " [ 0.83906738  0.83906738  0.83906738]]\n",
      "[[ 1.71949204  1.71949204  1.71949204]\n",
      " [ 1.43583145  1.43583145  1.43583145]\n",
      " [ 1.22309033  1.22309033  1.22309033]\n",
      " [ 0.39441772  0.39441772  0.39441772]\n",
      " [ 0.62682292  0.62682292  0.62682292]\n",
      " [ 1.02677122  1.02677122  1.02677122]\n",
      " [ 0.83906738  0.83906738  0.83906738]]\n",
      "[[ 1.71949204  1.71949204  1.71949204]\n",
      " [ 1.43583145  1.43583145  1.43583145]\n",
      " [ 1.22309033  1.22309033  1.22309033]\n",
      " [ 0.39441772  0.39441772  0.39441772]\n",
      " [ 0.62682292  0.62682292  0.62682292]\n",
      " [ 1.02677122  1.02677122  1.02677122]\n",
      " [ 0.83906738  0.83906738  0.83906738]]\n",
      "[[ 1.71949204  1.71949204  1.71949204]\n",
      " [ 1.43583145  1.43583145  1.43583145]\n",
      " [ 1.22309033  1.22309033  1.22309033]\n",
      " [ 0.39441772  0.39441772  0.39441772]\n",
      " [ 0.62682292  0.62682292  0.62682292]\n",
      " [ 1.02677122  1.02677122  1.02677122]\n",
      " [ 0.83906738  0.83906738  0.83906738]]\n",
      "[[ 1.71949204  1.71949204  1.71949204]\n",
      " [ 1.43583145  1.43583145  1.43583145]\n",
      " [ 1.22309033  1.22309033  1.22309033]\n",
      " [ 0.39441772  0.39441772  0.39441772]\n",
      " [ 0.62682292  0.62682292  0.62682292]\n",
      " [ 1.02677122  1.02677122  1.02677122]\n",
      " [ 0.83906738  0.83906738  0.83906738]]\n",
      "[[ 1.71949204  1.71949204  1.71949204]\n",
      " [ 1.43583145  1.43583145  1.43583145]\n",
      " [ 1.22309033  1.22309033  1.22309033]\n",
      " [ 0.39441772  0.39441772  0.39441772]\n",
      " [ 0.62682292  0.62682292  0.62682292]\n",
      " [ 1.02677122  1.02677122  1.02677122]\n"
     ]
    },
    {
     "name": "stdout",
     "output_type": "stream",
     "text": [
      " [ 0.83906738  0.83906738  0.83906738]]\n",
      "[[ 1.71949204  1.71949204  1.71949204]\n",
      " [ 1.43583145  1.43583145  1.43583145]\n",
      " [ 1.22309033  1.22309033  1.22309033]\n",
      " [ 0.39441772  0.39441772  0.39441772]\n",
      " [ 0.62682292  0.62682292  0.62682292]\n",
      " [ 1.02677122  1.02677122  1.02677122]\n",
      " [ 0.83906738  0.83906738  0.83906738]]\n",
      "[[ 1.71949204  1.71949204  1.71949204]\n",
      " [ 1.43583145  1.43583145  1.43583145]\n",
      " [ 1.22309033  1.22309033  1.22309033]\n",
      " [ 0.39441772  0.39441772  0.39441772]\n",
      " [ 0.62682292  0.62682292  0.62682292]\n",
      " [ 1.02677122  1.02677122  1.02677122]\n",
      " [ 0.83906738  0.83906738  0.83906738]]\n",
      "[[ 1.71949204  1.71949204  1.71949204]\n",
      " [ 1.43583145  1.43583145  1.43583145]\n",
      " [ 1.22309033  1.22309033  1.22309033]\n",
      " [ 0.39441772  0.39441772  0.39441772]\n",
      " [ 0.62682292  0.62682292  0.62682292]\n",
      " [ 1.02677122  1.02677122  1.02677122]\n",
      " [ 0.83906738  0.83906738  0.83906738]]\n",
      "[[ 1.71949204  1.71949204  1.71949204]\n",
      " [ 1.43583145  1.43583145  1.43583145]\n",
      " [ 1.22309033  1.22309033  1.22309033]\n",
      " [ 0.39441772  0.39441772  0.39441772]\n",
      " [ 0.62682292  0.62682292  0.62682292]\n",
      " [ 1.02677122  1.02677122  1.02677122]\n",
      " [ 0.83906738  0.83906738  0.83906738]]\n",
      "[[ 1.71949204  1.71949204  1.71949204]\n",
      " [ 1.43583145  1.43583145  1.43583145]\n",
      " [ 1.22309033  1.22309033  1.22309033]\n",
      " [ 0.39441772  0.39441772  0.39441772]\n",
      " [ 0.62682292  0.62682292  0.62682292]\n",
      " [ 1.02677122  1.02677122  1.02677122]\n",
      " [ 0.83906738  0.83906738  0.83906738]]\n"
     ]
    },
    {
     "ename": "KeyboardInterrupt",
     "evalue": "",
     "output_type": "error",
     "traceback": [
      "\u001b[0;31m---------------------------------------------------------------------------\u001b[0m",
      "\u001b[0;31mKeyboardInterrupt\u001b[0m                         Traceback (most recent call last)",
      "\u001b[0;32m<ipython-input-53-386b08bf0f6d>\u001b[0m in \u001b[0;36m<module>\u001b[0;34m()\u001b[0m\n\u001b[1;32m      5\u001b[0m     \u001b[0mlab\u001b[0m\u001b[0;34m=\u001b[0m\u001b[0mnp\u001b[0m\u001b[0;34m.\u001b[0m\u001b[0mzeros\u001b[0m\u001b[0;34m(\u001b[0m\u001b[0mi\u001b[0m\u001b[0;34m)\u001b[0m\u001b[0;34m\u001b[0m\u001b[0m\n\u001b[1;32m      6\u001b[0m     \u001b[0mkmeans\u001b[0m \u001b[0;34m=\u001b[0m \u001b[0mKMeans\u001b[0m\u001b[0;34m(\u001b[0m\u001b[0mi\u001b[0m\u001b[0;34m)\u001b[0m\u001b[0;34m\u001b[0m\u001b[0m\n\u001b[0;32m----> 7\u001b[0;31m     \u001b[0mpreds_tr\u001b[0m\u001b[0;34m=\u001b[0m\u001b[0mkmeans\u001b[0m\u001b[0;34m.\u001b[0m\u001b[0mfit_predict\u001b[0m\u001b[0;34m(\u001b[0m\u001b[0mtrain\u001b[0m\u001b[0;34m)\u001b[0m\u001b[0;34m\u001b[0m\u001b[0m\n\u001b[0m\u001b[1;32m      8\u001b[0m     \u001b[0mpreds\u001b[0m\u001b[0;34m=\u001b[0m\u001b[0mkmeans\u001b[0m\u001b[0;34m.\u001b[0m\u001b[0mpredict\u001b[0m\u001b[0;34m(\u001b[0m\u001b[0mtest\u001b[0m\u001b[0;34m)\u001b[0m\u001b[0;34m\u001b[0m\u001b[0m\n\u001b[1;32m      9\u001b[0m \u001b[0;31m#     print(preds_tr)\u001b[0m\u001b[0;34m\u001b[0m\u001b[0;34m\u001b[0m\u001b[0m\n",
      "\u001b[0;32m<ipython-input-52-97fc878f8359>\u001b[0m in \u001b[0;36mfit_predict\u001b[0;34m(self, train, epsilon, *args)\u001b[0m\n\u001b[1;32m     19\u001b[0m             \u001b[0;32mfor\u001b[0m \u001b[0mi\u001b[0m \u001b[0;32min\u001b[0m \u001b[0mrange\u001b[0m\u001b[0;34m(\u001b[0m\u001b[0mtrain\u001b[0m\u001b[0;34m.\u001b[0m\u001b[0mshape\u001b[0m\u001b[0;34m[\u001b[0m\u001b[0;36m0\u001b[0m\u001b[0;34m]\u001b[0m\u001b[0;34m)\u001b[0m\u001b[0;34m:\u001b[0m\u001b[0;34m\u001b[0m\u001b[0m\n\u001b[1;32m     20\u001b[0m                 \u001b[0;32mfor\u001b[0m \u001b[0mj\u001b[0m \u001b[0;32min\u001b[0m \u001b[0mrange\u001b[0m\u001b[0;34m(\u001b[0m\u001b[0mself\u001b[0m\u001b[0;34m.\u001b[0m\u001b[0mk\u001b[0m\u001b[0;34m)\u001b[0m\u001b[0;34m:\u001b[0m\u001b[0;34m\u001b[0m\u001b[0m\n\u001b[0;32m---> 21\u001b[0;31m                     \u001b[0mdist_vec\u001b[0m\u001b[0;34m[\u001b[0m\u001b[0mj\u001b[0m\u001b[0;34m]\u001b[0m \u001b[0;34m=\u001b[0m \u001b[0mnp\u001b[0m\u001b[0;34m.\u001b[0m\u001b[0msum\u001b[0m\u001b[0;34m(\u001b[0m\u001b[0;34m(\u001b[0m\u001b[0mtrain\u001b[0m\u001b[0;34m[\u001b[0m\u001b[0mi\u001b[0m\u001b[0;34m,\u001b[0m\u001b[0;34m:\u001b[0m\u001b[0;34m]\u001b[0m\u001b[0;34m-\u001b[0m\u001b[0mself\u001b[0m\u001b[0;34m.\u001b[0m\u001b[0mcenters\u001b[0m\u001b[0;34m[\u001b[0m\u001b[0mj\u001b[0m\u001b[0;34m]\u001b[0m\u001b[0;34m)\u001b[0m\u001b[0;34m**\u001b[0m\u001b[0;36m2\u001b[0m\u001b[0;34m)\u001b[0m\u001b[0;34m\u001b[0m\u001b[0m\n\u001b[0m\u001b[1;32m     22\u001b[0m \u001b[0;31m#                 print(dist_vec)\u001b[0m\u001b[0;34m\u001b[0m\u001b[0;34m\u001b[0m\u001b[0m\n\u001b[1;32m     23\u001b[0m                 \u001b[0mpreds\u001b[0m\u001b[0;34m[\u001b[0m\u001b[0mi\u001b[0m\u001b[0;34m]\u001b[0m \u001b[0;34m=\u001b[0m \u001b[0mnp\u001b[0m\u001b[0;34m.\u001b[0m\u001b[0margmin\u001b[0m\u001b[0;34m(\u001b[0m\u001b[0mdist_vec\u001b[0m\u001b[0;34m)\u001b[0m\u001b[0;34m\u001b[0m\u001b[0m\n",
      "\u001b[0;32m~/anaconda3/lib/python3.6/site-packages/numpy/core/fromnumeric.py\u001b[0m in \u001b[0;36msum\u001b[0;34m(a, axis, dtype, out, keepdims)\u001b[0m\n\u001b[1;32m   1818\u001b[0m     \u001b[0;32mif\u001b[0m \u001b[0mkeepdims\u001b[0m \u001b[0;32mis\u001b[0m \u001b[0;32mnot\u001b[0m \u001b[0mnp\u001b[0m\u001b[0;34m.\u001b[0m\u001b[0m_NoValue\u001b[0m\u001b[0;34m:\u001b[0m\u001b[0;34m\u001b[0m\u001b[0m\n\u001b[1;32m   1819\u001b[0m         \u001b[0mkwargs\u001b[0m\u001b[0;34m[\u001b[0m\u001b[0;34m'keepdims'\u001b[0m\u001b[0;34m]\u001b[0m \u001b[0;34m=\u001b[0m \u001b[0mkeepdims\u001b[0m\u001b[0;34m\u001b[0m\u001b[0m\n\u001b[0;32m-> 1820\u001b[0;31m     \u001b[0;32mif\u001b[0m \u001b[0misinstance\u001b[0m\u001b[0;34m(\u001b[0m\u001b[0ma\u001b[0m\u001b[0;34m,\u001b[0m \u001b[0m_gentype\u001b[0m\u001b[0;34m)\u001b[0m\u001b[0;34m:\u001b[0m\u001b[0;34m\u001b[0m\u001b[0m\n\u001b[0m\u001b[1;32m   1821\u001b[0m         \u001b[0mres\u001b[0m \u001b[0;34m=\u001b[0m \u001b[0m_sum_\u001b[0m\u001b[0;34m(\u001b[0m\u001b[0ma\u001b[0m\u001b[0;34m)\u001b[0m\u001b[0;34m\u001b[0m\u001b[0m\n\u001b[1;32m   1822\u001b[0m         \u001b[0;32mif\u001b[0m \u001b[0mout\u001b[0m \u001b[0;32mis\u001b[0m \u001b[0;32mnot\u001b[0m \u001b[0;32mNone\u001b[0m\u001b[0;34m:\u001b[0m\u001b[0;34m\u001b[0m\u001b[0m\n",
      "\u001b[0;31mKeyboardInterrupt\u001b[0m: "
     ]
    }
   ],
   "source": [
    "x=np.arange(3,100,4)\n",
    "acc_tr=[]\n",
    "acc=[]\n",
    "for i in x:\n",
    "    lab=np.zeros(i)\n",
    "    kmeans = KMeans(i)\n",
    "    preds_tr=kmeans.fit_predict(train)\n",
    "    preds=kmeans.predict(test)\n",
    "#     print(preds_tr)\n",
    "    for j in range(i):\n",
    "        lab[j]=np.bincount(y_train[(preds_tr==j)]).argmax()\n",
    "    acc_tr.append(np.sum(y_train==lab[preds_tr.astype(int)])/y_train.shape)\n",
    "    acc.append(np.sum(y_test==lab[preds.astype(int)])/y_test.shape)\n",
    "    print(i)"
   ]
  },
  {
   "cell_type": "code",
   "execution_count": 47,
   "metadata": {},
   "outputs": [],
   "source": [
    "np.savetxt('preds.csv',lab[preds_tr.astype(int)].astype(int))"
   ]
  },
  {
   "cell_type": "code",
   "execution_count": 42,
   "metadata": {},
   "outputs": [
    {
     "name": "stdout",
     "output_type": "stream",
     "text": [
      "[array([ 0.465]), array([ 0.45833333]), array([ 0.46833333])] [array([ 0.44416667]), array([ 0.44958333]), array([ 0.45])]\n"
     ]
    }
   ],
   "source": [
    "print(acc,acc_tr)"
   ]
  },
  {
   "cell_type": "code",
   "execution_count": 29,
   "metadata": {},
   "outputs": [
    {
     "name": "stdout",
     "output_type": "stream",
     "text": [
      "[ 0.9] 0.904166666667\n"
     ]
    }
   ],
   "source": [
    "acc_tr=[]\n",
    "acc=[]\n",
    "clf = GaussianBayes()\n",
    "clf.fit(train,y_train)\n",
    "acc_tr=np.sum(y_train==clf.predict(train))/y_train.shape[0]\n",
    "acc=np.sum(y_test==clf.predict(test))/y_test.shape\n",
    "# print(clf.predict(test))\n",
    "print(acc,acc_tr)"
   ]
  },
  {
   "cell_type": "code",
   "execution_count": null,
   "metadata": {
    "collapsed": true
   },
   "outputs": [],
   "source": [
    "fig,ax=plt.subplots()\n",
    "ax.scatter(list(x),acc_tr)\n",
    "ax.scatter(list(x),acc,color='r')\n",
    "\n",
    "print(train.shape)"
   ]
  },
  {
   "cell_type": "code",
   "execution_count": null,
   "metadata": {
    "collapsed": true
   },
   "outputs": [],
   "source": [
    "%matplotlib inline\n",
    "for i in range(train.shape[1]):\n",
    "    fig,ax=plt.subplots()\n",
    "    plt.hist(list(train[:,i]))"
   ]
  },
  {
   "cell_type": "code",
   "execution_count": 28,
   "metadata": {},
   "outputs": [
    {
     "name": "stdout",
     "output_type": "stream",
     "text": [
      "(2400,)\n",
      "(600,)\n",
      "[0.90833333333333333] [0.90833333333333333]\n",
      "[0.89500000000000002] [0.89500000000000002]\n"
     ]
    }
   ],
   "source": [
    "acc_tr=[]\n",
    "acc=[]\n",
    "clf=GaussianNB()\n",
    "clf.fit(train,y_train)\n",
    "preds_tr=clf.predict(train)\n",
    "preds=clf.predict(test)\n",
    "# print(preds_tr,preds)\n",
    "acc_tr.append(results.accuracy(y_train, preds_tr))\n",
    "acc.append(results.accuracy(y_test, preds))\n",
    "# print(y_train,preds_tr)\n",
    "# print(y_test,preds)"
   ]
  },
  {
   "cell_type": "markdown",
   "metadata": {},
   "source": [
    "# TRAIN SELECTION DATA"
   ]
  },
  {
   "cell_type": "code",
   "execution_count": 7,
   "metadata": {
    "collapsed": true
   },
   "outputs": [],
   "source": [
    "data = pd.read_csv('railwayBookingList.csv')"
   ]
  },
  {
   "cell_type": "code",
   "execution_count": 6,
   "metadata": {},
   "outputs": [
    {
     "name": "stdout",
     "output_type": "stream",
     "text": [
      "       caseID  boarded  budget  memberCount preferredClass     sex  age\n",
      "0   111131089        0    2201            0       FIRST_AC  female    2\n",
      "1  2489059216        0    1775            3       FIRST_AC    male    0\n",
      "2  1565109576        1    1775            3       FIRST_AC  female    0\n",
      "3  1373075087        1    1775            3       FIRST_AC    male    3\n",
      "4  1598041082        1    1775            3       FIRST_AC  female    2\n"
     ]
    }
   ],
   "source": [
    "print(data.head())"
   ]
  },
  {
   "cell_type": "code",
   "execution_count": 8,
   "metadata": {},
   "outputs": [
    {
     "name": "stderr",
     "output_type": "stream",
     "text": [
      "/home/khushal/anaconda3/lib/python3.6/site-packages/ipykernel_launcher.py:4: SettingWithCopyWarning: \n",
      "A value is trying to be set on a copy of a slice from a DataFrame\n",
      "\n",
      "See the caveats in the documentation: http://pandas.pydata.org/pandas-docs/stable/indexing.html#indexing-view-versus-copy\n",
      "  after removing the cwd from sys.path.\n"
     ]
    }
   ],
   "source": [
    "\n",
    "dict_class={'FIRST_AC':0,'SECOND_AC':1,'THIRD_AC':2,'NO_PREF':3}\n",
    "for i in range(data.shape[0]):\n",
    "    data['preferredClass'][i]=dict_class[data['preferredClass'][i]]\n",
    "    "
   ]
  },
  {
   "cell_type": "code",
   "execution_count": 9,
   "metadata": {},
   "outputs": [
    {
     "name": "stderr",
     "output_type": "stream",
     "text": [
      "/home/khushal/anaconda3/lib/python3.6/site-packages/ipykernel_launcher.py:1: SettingWithCopyWarning: \n",
      "A value is trying to be set on a copy of a slice from a DataFrame\n",
      "\n",
      "See the caveats in the documentation: http://pandas.pydata.org/pandas-docs/stable/indexing.html#indexing-view-versus-copy\n",
      "  \"\"\"Entry point for launching an IPython kernel.\n",
      "/home/khushal/anaconda3/lib/python3.6/site-packages/ipykernel_launcher.py:2: SettingWithCopyWarning: \n",
      "A value is trying to be set on a copy of a slice from a DataFrame\n",
      "\n",
      "See the caveats in the documentation: http://pandas.pydata.org/pandas-docs/stable/indexing.html#indexing-view-versus-copy\n",
      "  \n"
     ]
    }
   ],
   "source": [
    "data['sex'][(data['sex']=='male')]=0\n",
    "data['sex'][(data['sex']=='female')]=1"
   ]
  },
  {
   "cell_type": "code",
   "execution_count": 10,
   "metadata": {},
   "outputs": [
    {
     "name": "stderr",
     "output_type": "stream",
     "text": [
      "/home/khushal/anaconda3/lib/python3.6/site-packages/ipykernel_launcher.py:3: SettingWithCopyWarning: \n",
      "A value is trying to be set on a copy of a slice from a DataFrame\n",
      "\n",
      "See the caveats in the documentation: http://pandas.pydata.org/pandas-docs/stable/indexing.html#indexing-view-versus-copy\n",
      "  This is separate from the ipykernel package so we can avoid doing imports until\n"
     ]
    }
   ],
   "source": [
    "sorted_b=np.sort(np.array(data['budget'].unique()))\n",
    "for x,i in enumerate(sorted_b):\n",
    "        data['budget'][data['budget']==i]=x"
   ]
  },
  {
   "cell_type": "code",
   "execution_count": 87,
   "metadata": {},
   "outputs": [
    {
     "data": {
      "text/html": [
       "<div>\n",
       "<style>\n",
       "    .dataframe thead tr:only-child th {\n",
       "        text-align: right;\n",
       "    }\n",
       "\n",
       "    .dataframe thead th {\n",
       "        text-align: left;\n",
       "    }\n",
       "\n",
       "    .dataframe tbody tr th {\n",
       "        vertical-align: top;\n",
       "    }\n",
       "</style>\n",
       "<table border=\"1\" class=\"dataframe\">\n",
       "  <thead>\n",
       "    <tr style=\"text-align: right;\">\n",
       "      <th></th>\n",
       "      <th>caseID</th>\n",
       "      <th>boarded</th>\n",
       "      <th>budget</th>\n",
       "      <th>memberCount</th>\n",
       "      <th>preferredClass</th>\n",
       "      <th>sex</th>\n",
       "      <th>age</th>\n",
       "    </tr>\n",
       "  </thead>\n",
       "  <tbody>\n",
       "    <tr>\n",
       "      <th>0</th>\n",
       "      <td>111131089</td>\n",
       "      <td>0</td>\n",
       "      <td>17</td>\n",
       "      <td>0</td>\n",
       "      <td>0</td>\n",
       "      <td>1</td>\n",
       "      <td>2</td>\n",
       "    </tr>\n",
       "    <tr>\n",
       "      <th>1</th>\n",
       "      <td>2489059216</td>\n",
       "      <td>0</td>\n",
       "      <td>15</td>\n",
       "      <td>3</td>\n",
       "      <td>0</td>\n",
       "      <td>0</td>\n",
       "      <td>0</td>\n",
       "    </tr>\n",
       "    <tr>\n",
       "      <th>2</th>\n",
       "      <td>1565109576</td>\n",
       "      <td>1</td>\n",
       "      <td>15</td>\n",
       "      <td>3</td>\n",
       "      <td>0</td>\n",
       "      <td>1</td>\n",
       "      <td>0</td>\n",
       "    </tr>\n",
       "    <tr>\n",
       "      <th>3</th>\n",
       "      <td>1373075087</td>\n",
       "      <td>1</td>\n",
       "      <td>15</td>\n",
       "      <td>3</td>\n",
       "      <td>0</td>\n",
       "      <td>0</td>\n",
       "      <td>3</td>\n",
       "    </tr>\n",
       "    <tr>\n",
       "      <th>4</th>\n",
       "      <td>1598041082</td>\n",
       "      <td>1</td>\n",
       "      <td>15</td>\n",
       "      <td>3</td>\n",
       "      <td>0</td>\n",
       "      <td>1</td>\n",
       "      <td>2</td>\n",
       "    </tr>\n",
       "  </tbody>\n",
       "</table>\n",
       "</div>"
      ],
      "text/plain": [
       "       caseID  boarded  budget  memberCount preferredClass sex  age\n",
       "0   111131089        0      17            0              0   1    2\n",
       "1  2489059216        0      15            3              0   0    0\n",
       "2  1565109576        1      15            3              0   1    0\n",
       "3  1373075087        1      15            3              0   0    3\n",
       "4  1598041082        1      15            3              0   1    2"
      ]
     },
     "execution_count": 87,
     "metadata": {},
     "output_type": "execute_result"
    }
   ],
   "source": [
    "data.head()"
   ]
  },
  {
   "cell_type": "code",
   "execution_count": 11,
   "metadata": {},
   "outputs": [
    {
     "name": "stdout",
     "output_type": "stream",
     "text": [
      "(1309, 5)\n"
     ]
    }
   ],
   "source": [
    "y=data['boarded']\n",
    "X = data.as_matrix()\n",
    "X=X[:-1,2:]\n",
    "y=y[:-1]\n",
    "y=np.array(y)\n",
    "print(X.shape)"
   ]
  },
  {
   "cell_type": "code",
   "execution_count": 12,
   "metadata": {
    "collapsed": true
   },
   "outputs": [],
   "source": [
    "from sklearn.model_selection import StratifiedShuffleSplit\n",
    "sss = StratifiedShuffleSplit(n_splits=1, test_size=0.2)\n",
    "sss.get_n_splits(X, y)\n",
    "for train_index, test_index in sss.split(X, y):\n",
    "    train, y_train = X[train_index], y[train_index]\n",
    "    test, y_test = X[test_index], y[test_index]"
   ]
  },
  {
   "cell_type": "code",
   "execution_count": 13,
   "metadata": {
    "collapsed": true
   },
   "outputs": [],
   "source": [
    "y_train=np.array(y_train)\n",
    "train=np.array(train)\n",
    "test=np.array(test)\n",
    "y_test=np.array(y_test)"
   ]
  },
  {
   "cell_type": "code",
   "execution_count": 11,
   "metadata": {
    "collapsed": true
   },
   "outputs": [],
   "source": [
    "from sklearn.cluster import KMeans\n",
    "x=np.arange(3,300,4)\n",
    "acc_tr=[]\n",
    "acc=[]\n",
    "for i in x:\n",
    "    lab=np.zeros(i)\n",
    "    kmeans = KMeans(n_clusters = i)\n",
    "    preds_tr=kmeans.fit_predict(train)\n",
    "    preds=kmeans.predict(test)\n",
    "#     print(preds_tr)\n",
    "    for j in range(i):\n",
    "        lab[j]=np.bincount(y_train[(preds_tr==j)]).argmax()  \n",
    "    acc_tr.append(np.sum(y_train==lab[preds_tr])/y_train.shape)\n",
    "    acc.append(np.sum(y_test==lab[preds])/y_test.shape)"
   ]
  },
  {
   "cell_type": "code",
   "execution_count": 86,
   "metadata": {},
   "outputs": [
    {
     "name": "stdout",
     "output_type": "stream",
     "text": [
      "(1047, 5)\n"
     ]
    },
    {
     "data": {
      "image/png": "[encoded data removed]",
      "text/plain": [
       "<matplotlib.figure.Figure at 0x7fc98d967908>"
      ]
     },
     "metadata": {},
     "output_type": "display_data"
    }
   ],
   "source": [
    "fig,ax=plt.subplots()\n",
    "ax.scatter(list(x),acc_tr,label='Train Accuracy')\n",
    "ax.scatter(list(x),acc,color='r',label='Validation Accuracy')\n",
    "ax.legend(loc='lower right')\n",
    "print(train.shape)\n",
    "fig.savefig('ktrs.png')"
   ]
  },
  {
   "cell_type": "code",
   "execution_count": 80,
   "metadata": {},
   "outputs": [
    {
     "data": {
      "image/png": "[encoded data removed]",
      "text/plain": [
       "<matplotlib.figure.Figure at 0x7fc98d88aeb8>"
      ]
     },
     "metadata": {},
     "output_type": "display_data"
    }
   ],
   "source": [
    "%matplotlib inline\n",
    "for i in range(train.shape[1]):\n",
    "    fig,ax=plt.subplots()\n",
    "    ax.hist(list(train[:,i]))"
   ]
  },
  {
   "cell_type": "code",
   "execution_count": 29,
   "metadata": {},
   "outputs": [
    {
     "ename": "NameError",
     "evalue": "name 'KNN' is not defined",
     "output_type": "error",
     "traceback": [
      "\u001b[0;31m---------------------------------------------------------------------------\u001b[0m",
      "\u001b[0;31mNameError\u001b[0m                                 Traceback (most recent call last)",
      "\u001b[0;32m<ipython-input-29-660cf856a78e>\u001b[0m in \u001b[0;36m<module>\u001b[0;34m()\u001b[0m\n\u001b[1;32m      4\u001b[0m \u001b[0;34m\u001b[0m\u001b[0m\n\u001b[1;32m      5\u001b[0m \u001b[0;32mfor\u001b[0m \u001b[0mi\u001b[0m \u001b[0;32min\u001b[0m \u001b[0mx\u001b[0m\u001b[0;34m:\u001b[0m\u001b[0;34m\u001b[0m\u001b[0m\n\u001b[0;32m----> 6\u001b[0;31m     \u001b[0mclf\u001b[0m\u001b[0;34m=\u001b[0m\u001b[0mKNN\u001b[0m\u001b[0;34m(\u001b[0m\u001b[0mi\u001b[0m\u001b[0;34m)\u001b[0m\u001b[0;34m\u001b[0m\u001b[0m\n\u001b[0m\u001b[1;32m      7\u001b[0m     \u001b[0mclf\u001b[0m\u001b[0;34m.\u001b[0m\u001b[0mfit\u001b[0m\u001b[0;34m(\u001b[0m\u001b[0mtrain\u001b[0m\u001b[0;34m,\u001b[0m\u001b[0my_train\u001b[0m\u001b[0;34m)\u001b[0m\u001b[0;34m\u001b[0m\u001b[0m\n\u001b[1;32m      8\u001b[0m     \u001b[0mpreds_tr\u001b[0m\u001b[0;34m=\u001b[0m\u001b[0mclf\u001b[0m\u001b[0;34m.\u001b[0m\u001b[0mpredict\u001b[0m\u001b[0;34m(\u001b[0m\u001b[0mtrain\u001b[0m\u001b[0;34m)\u001b[0m\u001b[0;34m\u001b[0m\u001b[0m\n",
      "\u001b[0;31mNameError\u001b[0m: name 'KNN' is not defined"
     ]
    }
   ],
   "source": [
    "acc_tr=[]\n",
    "acc=[]\n",
    "x=np.arange(1,10)\n",
    "\n",
    "for i in x:\n",
    "    clf=KNN(i)\n",
    "    clf.fit(train,y_train)\n",
    "    preds_tr=clf.predict(train)\n",
    "    preds=clf.predict(test)\n",
    "    acc_tr.append(results.accuracy(y_train, preds_tr))\n",
    "    acc.append(results.accuracy(y_test, preds))\n",
    "# print(acc_tr,acc_tr2)\n",
    "# print(acc,acc2)"
   ]
  },
  {
   "cell_type": "code",
   "execution_count": 60,
   "metadata": {},
   "outputs": [
    {
     "data": {
      "text/plain": [
       "<matplotlib.legend.Legend at 0x7f24dde46fd0>"
      ]
     },
     "execution_count": 60,
     "metadata": {},
     "output_type": "execute_result"
    },
    {
     "data": {
      "image/png": "[encoded data removed]",
      "text/plain": [
       "<matplotlib.figure.Figure at 0x7f24ddf0fd30>"
      ]
     },
     "metadata": {},
     "output_type": "display_data"
    }
   ],
   "source": [
    "fig,ax=plt.subplots()\n",
    "ax.scatter(list(x),acc_tr,label='Train Accuracy')\n",
    "ax.scatter(list(x),acc,color='r',label='Validation Accuracy')\n",
    "ax.legend(loc='upper right')\n",
    "# fig.savefig('knntrs.png')"
   ]
  },
  {
   "cell_type": "code",
   "execution_count": null,
   "metadata": {
    "collapsed": true
   },
   "outputs": [],
   "source": [
    "from sklearn.naive_bayes import MultinomialNB\n",
    "acc_tr=[]\n",
    "acc=[]\n",
    "clf=BinomialNB(5)\n",
    "clf.fit(train,y_train)\n",
    "preds_tr=clf.predict(train)\n",
    "preds=clf.predict(test)\n",
    "acc_tr.append(results.accuracy(y_train, preds_tr))\n",
    "acc.append(results.accuracy(y_test, preds))\n",
    "acc_tr2=[]\n",
    "acc2=[]\n",
    "\n",
    "clf2=MultinomialNB()\n",
    "clf2.fit(train,y_train)\n",
    "preds_tr=clf2.predict(train)\n",
    "preds=clf2.predict(test)\n",
    "acc_tr2.append(results.accuracy(y_train, preds_tr))\n",
    "acc2.append(results.accuracy(y_test, preds))\n",
    "print(acc_tr,acc_tr2)\n",
    "print(acc,acc2)"
   ]
  },
  {
   "cell_type": "code",
   "execution_count": 24,
   "metadata": {},
   "outputs": [
    {
     "name": "stdout",
     "output_type": "stream",
     "text": [
      "(1047,)\n",
      "(262,)\n",
      "[0.78032473734479468] [0.78032473734479468]\n",
      "[0.7862595419847328] [0.7862595419847328]\n"
     ]
    }
   ],
   "source": [
    "acc_tr=[]\n",
    "acc=[]\n",
    "clf=GaussianNB()\n",
    "clf.fit(train,y_train)\n",
    "preds_tr=clf.predict(train)\n",
    "preds=clf.predict(test)\n",
    "# print(preds_tr,preds)\n",
    "acc_tr.append(results.accuracy(y_train, preds_tr))\n",
    "acc.append(results.accuracy(y_test, preds))\n",
    "# print(y_train,preds_tr)\n",
    "# print(y_test,preds)\n",
    "print(acc,acc_tr)"
   ]
  },
  {
   "cell_type": "markdown",
   "metadata": {},
   "source": [
    "# FINAL RESULTS"
   ]
  },
  {
   "cell_type": "markdown",
   "metadata": {},
   "source": [
    "|Dataset| Classifier  |   Parameter | Accuracy |Precision | Recall | F1-score |\n",
    "|--------|:-------:|-----|-------|------|-------|-------|\n",
    "|Medical Data|KNeighbours|| | || | \n",
    "|Medical Data|Gaussian Bayes|| | || | \n",
    "|Medical Data|Gaussian Mixture Model Naive Bayes|| | || | \n",
    "|Medical Data|Gaussian NB|| ||| |  \n",
    "|Medical Data|KMeans|| | || | \n",
    "|Train Selection Data|KNeighbours|| | || | \n",
    "|Train Selection Data|Gaussian Bayes|| | || | \n",
    "|Train Selection Data|Gaussian NB|| | || | \n",
    "|Train Selection Data|Bionomial NB|| | || | \n",
    "|Train Selection Data|KMeans|| | || | \n",
    "|Fashion-MNIST|KNeighbours|| | || | \n",
    "|Fashion-MNIST|Gaussian Bayes|| | || | \n",
    "|Fashion-MNIST|Gaussian NB|| | || | \n",
    "|Fashion-MNIST|KMeans|| | || | "
   ]
  },
  {
   "cell_type": "code",
   "execution_count": null,
   "metadata": {
    "collapsed": true
   },
   "outputs": [],
   "source": []
  }
 ],
 "metadata": {
  "kernelspec": {
   "display_name": "Python 3",
   "language": "python",
   "name": "python3"
  },
  "language_info": {
   "codemirror_mode": {
    "name": "ipython",
    "version": 3
   },
   "file_extension": ".py",
   "mimetype": "text/x-python",
   "name": "python",
   "nbconvert_exporter": "python",
   "pygments_lexer": "ipython3",
   "version": "3.6.3"
  }
 },
 "nbformat": 4,
 "nbformat_minor": 2
}

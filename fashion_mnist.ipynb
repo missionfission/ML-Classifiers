{
 "cells": [
  {
   "cell_type": "code",
   "execution_count": 3,
   "metadata": {},
   "outputs": [],
   "source": [
    "import itertools\n",
    "import json\n",
    "import random\n",
    "import time\n",
    "from ast import literal_eval as make_tuple\n",
    "import numpy as np\n",
    "import psutil\n",
    "from sklearn import preprocessing\n",
    "from sklearn.naive_bayes import GaussianNB\n",
    "from sklearn.neighbors import KNeighborsClassifier\n",
    "from sklearn.cluster import kmeans\n",
    "from sklearn.decomposition import PCA\n",
    "from utils import mnist_reader\n",
    "\n"
   ]
  },
  {
   "cell_type": "code",
   "execution_count": 5,
   "metadata": {},
   "outputs": [],
   "source": [
    "DATA_DIR='data/fashion/'"
   ]
  },
  {
   "cell_type": "code",
   "execution_count": 8,
   "metadata": {},
   "outputs": [],
   "source": [
    "X, Y = mnist_reader.load_mnist(path=DATA_DIR, kind='train')\n",
    "Xt, Yt = mnist_reader.load_mnist(path=DATA_DIR, kind='t10k')"
   ]
  },
  {
   "cell_type": "code",
   "execution_count": 9,
   "metadata": {
    "scrolled": true
   },
   "outputs": [
    {
     "name": "stderr",
     "output_type": "stream",
     "text": [
      "/home/khushal/anaconda2/envs/dl/lib/python3.6/site-packages/sklearn/utils/validation.py:475: DataConversionWarning: Data with input dtype uint8 was converted to float64 by StandardScaler.\n",
      "  warnings.warn(msg, DataConversionWarning)\n"
     ]
    }
   ],
   "source": [
    "scaler = preprocessing.StandardScaler().fit(X)\n",
    "X = scaler.transform(X)\n",
    "Xt = scaler.transform(Xt)\n",
    "\n",
    "Xs, Ys = shuffle(Xt, Yt)"
   ]
  },
  {
   "cell_type": "code",
   "execution_count": null,
   "metadata": {},
   "outputs": [],
   "source": [
    "test_info = {\n",
    "    'name': Clf_name,\n",
    "    'parameter': clf_par,\n",
    "    'score': acc,\n",
    "    'start_time': start_time,\n",
    "    'done_time': done_time,\n",
    "    'num_repeat': len(acc),\n",
    "    'mean_accuracy': np.array(acc).mean(),\n",
    "    'std_accuracy': np.array(acc).std() * 2,\n",
    "    \n",
    "}"
   ]
  },
  {
   "cell_type": "code",
   "execution_count": null,
   "metadata": {},
   "outputs": [],
   "source": [
    "json.dumps(test_info, sort_keys=True)"
   ]
  },
  {
   "cell_type": "code",
   "execution_count": null,
   "metadata": {},
   "outputs": [],
   "source": [
    "import time\n",
    "\n",
    "start=time.time()\n",
    "\n",
    "\n",
    "pca=PCA(n_components=1000,svd_solver='randomized')\n",
    "X=pca.fit_transform(X)\n",
    "Xt=pca.transform(Xt)\n",
    "end=time.time()\n",
    "print(start-end)\n",
    "        "
   ]
  },
  {
   "cell_type": "code",
   "execution_count": null,
   "metadata": {},
   "outputs": [],
   "source": [
    "from sklearn.metrics import accuracy_score, log_loss\n",
    "clf=KNeighborsClassifier(1)\n",
    "clf.fit(features_for_Sa_crc,y)\n",
    "\n",
    "train_predictions = clf.predict(features_for_Sa_crc)\n",
    "print(accuracy_score(y, train_predictions))"
   ]
  },
  {
   "cell_type": "code",
   "execution_count": null,
   "metadata": {},
   "outputs": [],
   "source": [
    "from sklearn.metrics import roc_curve, auc\n",
    "from sklearn.preprocessing import label_binarize\n",
    "from scipy import interp\n",
    "import matplotlib.pyplot as plt\n",
    "from itertools import cycle\n",
    "lw=2\n",
    "y_test = label_binarize(y_test, classes=np.arange(n_classes))\n",
    "print(y_test.shape)\n",
    "fpr = dict()\n",
    "thresholds=dict()\n",
    "tpr = dict()\n",
    "roc_auc = dict()\n",
    "for i in range(n_classes):\n",
    "    fpr[i], tpr[i], _ = roc_curve(y_test[:, i], y_score[:, i])\n",
    "    roc_auc[i] = auc(fpr[i], tpr[i])\n",
    "fpr[\"micro\"], tpr[\"micro\"], thresholds[\"micro\"] = roc_curve(y_test.ravel(), y_score.ravel())\n",
    "roc_auc[\"micro\"] = auc(fpr[\"micro\"], tpr[\"micro\"])\n",
    "\n",
    "all_fpr = np.unique(np.concatenate([fpr[i] for i in range(n_classes)]))\n",
    "\n",
    "# Then interpolate all ROC curves at this points\n",
    "mean_tpr = np.zeros_like(all_fpr)\n",
    "for i in range(n_classes):\n",
    "    mean_tpr += interp(all_fpr, fpr[i], tpr[i])\n",
    "\n",
    "# Finally average it and compute AUC\n",
    "mean_tpr /= n_classes\n",
    "\n",
    "fpr[\"macro\"] = all_fpr\n",
    "tpr[\"macro\"] = mean_tpr\n",
    "roc_auc[\"macro\"] = auc(fpr[\"macro\"], tpr[\"macro\"])\n",
    "\n",
    "# Plot all ROC curves\n",
    "fig=plt.figure()\n",
    "plt.plot(fpr[\"micro\"], tpr[\"micro\"],\n",
    "         label='micro-average ROC curve (area = {0:0.2f})'\n",
    "               ''.format(roc_auc[\"micro\"]),\n",
    "         color='deeppink', linestyle=':', linewidth=4)\n",
    "\n",
    "#plt.plot(fpr[\"macro\"], tpr[\"macro\"],\n",
    "#         label='macro-average ROC curve (area = {0:0.2f})'\n",
    " #              ''.format(roc_auc[\"macro\"]),\n",
    "  #       color='navy', linestyle=':', linewidth=4)\n",
    "\n",
    "colors = cycle(['aqua', 'darkorange', 'cornflowerblue'])\n",
    "#for i, color in zip(range(n_classes), colors):\n",
    " #   plt.plot(fpr[i], tpr[i], color=color, lw=lw,\n",
    "  #           label='ROC curve of class {0} (area = {1:0.2f})'\n",
    "   #          ''.format(i, roc_auc[i]))\n",
    "\n",
    "#plt.plot([0, 1], [0, 1], 'k--', lw=lw)\n",
    "plt.xscale('log')\n",
    "plt.xlim([0.0, 0.1])\n",
    "plt.ylim([0.9, 1])\n",
    "plt.xlabel('False Positive Rate',fontsize=16)\n",
    "plt.ylabel('True Positive Rate',fontsize=16)\n",
    "plt.title('Receiver operating characteristic -multi-class',fontsize=16)\n",
    "plt.legend(loc=\"lower right\")\n",
    "plt.show()\n",
    "fig.savefig('plot'+filename+'.png')\n",
    "for i in range(len(fpr[\"micro\"])):\n",
    "    print (fpr[\"micro\"][i], tpr[\"micro\"][i],thresholds[\"micro\"][i])"
   ]
  }
 ],
 "metadata": {
  "kernelspec": {
   "display_name": "Python [conda env:dl]",
   "language": "python",
   "name": "conda-env-dl-py"
  },
  "language_info": {
   "codemirror_mode": {
    "name": "ipython",
    "version": 3
   },
   "file_extension": ".py",
   "mimetype": "text/x-python",
   "name": "python",
   "nbconvert_exporter": "python",
   "pygments_lexer": "ipython3",
   "version": "3.6.4"
  }
 },
 "nbformat": 4,
 "nbformat_minor": 2
}

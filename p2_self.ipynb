{
 "cells": [
  {
   "cell_type": "code",
   "execution_count": 48,
   "metadata": {},
   "outputs": [
    {
     "name": "stdout",
     "output_type": "stream",
     "text": [
      "6\n",
      "[array([2.457501875913383, 0.25074198298288336, 0.7527665364278691],\n",
      "      dtype=object), array([0.26840471215934153, 2.5298871818811826, 0.3667307390813902],\n",
      "      dtype=object), array([0.6850808347844645, 0.11809943924826011, 2.656703189021965],\n",
      "      dtype=object)]\n"
     ]
    },
    {
     "name": "stderr",
     "output_type": "stream",
     "text": [
      "c:\\users\\shiva\\appdata\\local\\programs\\python\\python36\\lib\\site-packages\\ipykernel_launcher.py:5: FutureWarning: Method .as_matrix will be removed in a future version. Use .values instead.\n",
      "  \"\"\"\n"
     ]
    }
   ],
   "source": [
    "import pandas as pd\n",
    "import numpy as np\n",
    "\n",
    "data = pd.read_csv('Medical_data.csv')\n",
    "X = data.as_matrix()\n",
    "Y = X[:,1:4]\n",
    "\n",
    "def distance(a,b):\n",
    "    d1 = abs(a[0] - b[0])\n",
    "    d2 = abs(a[1] - b[1])\n",
    "    d3 = abs(a[2] - b[2])\n",
    "    return ((d1**2 + d2**2 + d3**2)**0.5)\n",
    "\n",
    "centers = np.array([[0,0,0],[0,0,0],[0,0,0]])\n",
    "labels = np.zeros((Y.shape[0]))\n",
    "count = np.array([Y.shape[0],0,0])\n",
    "\n",
    "a = [2,0,0]\n",
    "b = [0,2,0]\n",
    "c = [0,0,2]\n",
    "tolerance = 10**-2\n",
    "no_of_iterations = 0\n",
    "\n",
    "while ((distance(centers[0],a) + distance(centers[1],b) + distance(centers[2],c)) > tolerance) :   \n",
    "    [p,q,r] = np.zeros((3,3))\n",
    "    count = np.array([0,0,0])\n",
    "    for i in range(labels.size):\n",
    "        d1 = distance(a,Y[i])\n",
    "        d2 = distance(b,Y[i])\n",
    "        d3 = distance(c,Y[i])\n",
    "        m = min(d1,d2,d3)\n",
    "        if (d1 == m):\n",
    "            p = p + Y[i]\n",
    "            labels[i] = 0\n",
    "            count[0] = count[0] + 1\n",
    "        elif (d2 == m):\n",
    "            q = q + Y[i]\n",
    "            labels[i] = 1\n",
    "            count[1] = count[1] + 1\n",
    "        else :\n",
    "            r = r + Y[i]\n",
    "            labels[i] = 2\n",
    "            count[2] = count[2] + 1\n",
    "    centers = [a,b,c]\n",
    "    a = p/count[0]\n",
    "    b = q/count[1]\n",
    "    c = r/count[2]\n",
    "    no_of_iterations = no_of_iterations + 1\n",
    "centers = [a,b,c]\n",
    "print(no_of_iterations)\n",
    "print(centers)"
   ]
  }
 ],
 "metadata": {
  "kernelspec": {
   "display_name": "Python 3",
   "language": "python",
   "name": "python3"
  },
  "language_info": {
   "codemirror_mode": {
    "name": "ipython",
    "version": 3
   },
   "file_extension": ".py",
   "mimetype": "text/x-python",
   "name": "python",
   "nbconvert_exporter": "python",
   "pygments_lexer": "ipython3",
   "version": "3.6.6"
  }
 },
 "nbformat": 4,
 "nbformat_minor": 2
}

{
 "cells": [
  {
   "cell_type": "code",
   "execution_count": 29,
   "metadata": {},
   "outputs": [
    {
     "name": "stderr",
     "output_type": "stream",
     "text": [
      "c:\\users\\shiva\\appdata\\local\\programs\\python\\python36\\lib\\site-packages\\ipykernel_launcher.py:5: FutureWarning: Method .as_matrix will be removed in a future version. Use .values instead.\n",
      "  \"\"\"\n"
     ]
    },
    {
     "name": "stdout",
     "output_type": "stream",
     "text": [
      "6\n",
      "[array([2.457501875913383, 0.25074198298288336, 0.7527665364278691],\n",
      "      dtype=object), array([0.26840471215934153, 2.5298871818811826, 0.3667307390813902],\n",
      "      dtype=object), array([0.6850808347844645, 0.11809943924826011, 2.656703189021965],\n",
      "      dtype=object)]\n"
     ]
    }
   ],
   "source": [
    "#KMeans Clustering\n",
    "import pandas as pd\n",
    "import numpy as np\n",
    "\n",
    "data = pd.read_csv('Medical_data.csv')\n",
    "X = data.values\n",
    "Y = X[:,1:4]\n",
    "\n",
    "def distance(a,b):\n",
    "    d = abs(a-b)\n",
    "    return np.dot(d,d)**0.5\n",
    "\n",
    "centers = np.array([[0,0,0],[0,0,0],[0,0,0]])\n",
    "labels = np.zeros((Y.shape[0]))\n",
    "count = np.array([Y.shape[0],0,0])\n",
    "\n",
    "[a,b,c] = np.array([[2,0,0],[0,2,0],[0,0,2]])\n",
    "tolerance = 10**-2\n",
    "no_of_iterations = 0\n",
    "\n",
    "while ((distance(centers[0],a) + distance(centers[1],b) + distance(centers[2],c)) > tolerance) :   \n",
    "    [p,q,r] = np.zeros((3,3))\n",
    "    count = np.array([0,0,0])\n",
    "    for i in range(labels.size):\n",
    "        d1 = distance(a,Y[i])\n",
    "        d2 = distance(b,Y[i])\n",
    "        d3 = distance(c,Y[i])\n",
    "        m = min(d1,d2,d3)\n",
    "        if (d1 == m):\n",
    "            p = p + Y[i]\n",
    "            labels[i] = 0\n",
    "            count[0] = count[0] + 1\n",
    "        elif (d2 == m):\n",
    "            q = q + Y[i]\n",
    "            labels[i] = 1\n",
    "            count[1] = count[1] + 1\n",
    "        else :\n",
    "            r = r + Y[i]\n",
    "            labels[i] = 2\n",
    "            count[2] = count[2] + 1\n",
    "    centers = [a,b,c]\n",
    "    [a,b,c] = (np.array([p,q,r]).T/count).T\n",
    "    no_of_iterations = no_of_iterations + 1\n",
    "\n",
    "centers = [a,b,c]\n",
    "print(no_of_iterations)\n",
    "print(centers)"
   ]
  },
  {
   "cell_type": "code",
   "execution_count": null,
   "metadata": {},
   "outputs": [],
   "source": [
    "#Naive Bayes Classifier\n",
    "import pandas as pd\n",
    "import numpy as np\n",
    "\n",
    "data = pd.read_csv('Medical_data.csv')\n",
    "X = data.values\n",
    "Y = X[:,0]\n",
    "X = X[:,1:4]\n",
    "\n",
    "dict = {0:\"HEALTHY\",1:\"MEDICATION\",2:\"SURGERY\"}\n",
    "\n",
    "#distribution(x) - class conditional densities which we find by some method like MLE, Bayesian or anything\n",
    "unique, counts = np.unique(Y, return_counts=True)\n",
    "priors = counts/np.sum(counts)\n",
    "\n",
    "def predict(a):\n",
    "    i = np.argmax(distribution(a)*priors)\n",
    "    return dict[i]\n",
    "def predict_prob(a):\n",
    "    return (distribution(a)*priors)/np.sum(distribution(a)*priors)"
   ]
  },
  {
   "cell_type": "code",
   "execution_count": 18,
   "metadata": {},
   "outputs": [
    {
     "name": "stdout",
     "output_type": "stream",
     "text": [
      "[9.82912493e-06 5.79195789e-06 4.88291949e-06]\n"
     ]
    }
   ],
   "source": [
    "#Gaussian MLE\n",
    "import pandas as pd\n",
    "import numpy as np\n",
    "\n",
    "data = pd.read_csv('Medical_data.csv')\n",
    "X = data.values\n",
    "Y = X[:,0]\n",
    "X = X[:,1:4]\n",
    "\n",
    "dict = {0:\"HEALTHY\",1:\"MEDICATION\",2:\"SURGERY\"}\n",
    "\n",
    "mean = []\n",
    "for i in range(3):\n",
    "    mean.append(np.mean(X[np.argwhere(Y == dict[i])],axis = 0))\n",
    "mean = np.asarray(mean)\n",
    "\n",
    "variance = []\n",
    "for i in range(3):\n",
    "    variance.append(np.sum((X[np.argwhere(Y == dict[i])] - mean[i])**2,axis = 0))\n",
    "variance = np.asarray(variance)\n",
    "\n",
    "def probability(x,i):\n",
    "    a = (-np.square(x-mean[i]))/(2*variance[i])\n",
    "    b = variance[i]**0.5\n",
    "    p = (1/np.sqrt(2*np.pi))*((np.exp(1)**a)/b)\n",
    "    return np.prod(p)\n",
    "\n",
    "def distribution(x):\n",
    "    d = []\n",
    "    for i in range(3):\n",
    "        d.append(probability(x,i))\n",
    "    d = np.asarray(d)\n",
    "    return d\n",
    "print(distribution(np.array([0.211,-0.231,0.99])))"
   ]
  },
  {
   "cell_type": "code",
   "execution_count": 224,
   "metadata": {},
   "outputs": [
    {
     "name": "stderr",
     "output_type": "stream",
     "text": [
      "c:\\users\\shiva\\appdata\\local\\programs\\python\\python36\\lib\\site-packages\\ipykernel_launcher.py:13: RuntimeWarning: invalid value encountered in double_scalars\n",
      "  del sys.path[0]\n",
      "c:\\users\\shiva\\appdata\\local\\programs\\python\\python36\\lib\\site-packages\\ipykernel_launcher.py:13: RuntimeWarning: overflow encountered in exp\n",
      "  del sys.path[0]\n"
     ]
    }
   ],
   "source": [
    "#Gaussian Mixture Models\n",
    "import pandas as pd\n",
    "import numpy as np\n",
    "\n",
    "data = pd.read_csv('Medical_data.csv')\n",
    "X = data.values\n",
    "Y = X[:,0]\n",
    "X = X[:,1:4]\n",
    "\n",
    "def prob_mnd(x,mean,variance): #mulitvariate normal distribution\n",
    "    a = np.dot(x-mean, np.linalg.inv(variance))\n",
    "    b = -1/2*np.dot(a, (x-mean))\n",
    "    d = np.linalg.det(2*np.pi*variance)\n",
    "    return (d**-0.5)*np.exp(b)\n",
    "\n",
    "def class_conditionals(X,mean,variance):\n",
    "    prob_vector = []\n",
    "    for i in range(np.size(X,0)):\n",
    "        distribution = []\n",
    "        for j in range(np.size(mean,0)):\n",
    "            distribution.append(prob_mnd(X[i],mean[j],variance[j]))\n",
    "        prob_vector.append(distribution)\n",
    "    prob_vector = np.asarray(prob_vector)\n",
    "    return prob_vector\n",
    "\n"
   ]
  }
 ],
 "metadata": {
  "kernelspec": {
   "display_name": "Python [conda env:dl]",
   "language": "python",
   "name": "conda-env-dl-py"
  },
  "language_info": {
   "codemirror_mode": {
    "name": "ipython",
    "version": 3
   },
   "file_extension": ".py",
   "mimetype": "text/x-python",
   "name": "python",
   "nbconvert_exporter": "python",
   "pygments_lexer": "ipython3",
   "version": "3.6.4"
  }
 },
 "nbformat": 4,
 "nbformat_minor": 2
}

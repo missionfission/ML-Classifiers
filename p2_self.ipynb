{
 "cells": [
  {
   "cell_type": "code",
   "execution_count": 64,
   "metadata": {},
   "outputs": [
    {
     "name": "stdout",
     "output_type": "stream",
     "text": [
      "[array([3.1169978956977964, 0.9245536940089184, 0.3799132358246317],\n",
      "      dtype=object), array([0.9752179047232428, 2.305958926888452, 0.22982688347681815],\n",
      "      dtype=object), array([1.6840959730399991, -0.02321819895892971, 3.306257682435044],\n",
      "      dtype=object)]\n"
     ]
    },
    {
     "name": "stderr",
     "output_type": "stream",
     "text": [
      "c:\\users\\shiva\\appdata\\local\\programs\\python\\python36\\lib\\site-packages\\ipykernel_launcher.py:5: FutureWarning: Method .as_matrix will be removed in a future version. Use .values instead.\n",
      "  \"\"\"\n"
     ]
    }
   ],
   "source": [
    "import pandas as pd\n",
    "import numpy as np\n",
    "\n",
    "data = pd.read_csv('Medical_data.csv')\n",
    "X = data.as_matrix()\n",
    "Y = X[:,1:4]\n",
    "\n",
    "def distance(a,b):\n",
    "    d1 = abs(a[0] - b[0])\n",
    "    d2 = abs(a[1] - b[1])\n",
    "    d3 = abs(a[2] - b[2])\n",
    "    return ((d1**2 + d2**2 + d3**2)**0.5)\n",
    "\n",
    "centers = np.array([[0,0,0],[0,0,0],[0,0,0]])\n",
    "labels = np.zeros((Y.shape[0]))\n",
    "count = np.array([Y.shape[0],0,0])\n",
    "\n",
    "a = [3,0,0]\n",
    "b = [0,3,0]\n",
    "c = [0,0,3]\n",
    "[p,q,r] = np.zeros((3,3))\n",
    "tolerance = 10**-5\n",
    "\n",
    "while ((distance(centers[0],a) + distance(centers[1],b) + distance(centers[2],c)) > tolerance) :   \n",
    "    count = np.zeros(3)\n",
    "    for i in range(labels.size):\n",
    "        d1 = distance(a,Y[i])\n",
    "        d2 = distance(b,Y[i])\n",
    "        d3 = distance(c,Y[i])\n",
    "        m = min(d1,d2,d3)\n",
    "        if (d1 == m):\n",
    "            p =+ Y[i]\n",
    "            labels[i] = 0\n",
    "            count[0] =+ 1\n",
    "        elif (d2 == m):\n",
    "            q =+ Y[i]\n",
    "            labels[i] = 1\n",
    "            count[1] =+ 1\n",
    "        else :\n",
    "            r =+ Y[i]\n",
    "            labels[i] = 2\n",
    "            count[2] =+ 1\n",
    "    centers = [a,b,c]\n",
    "    [a,b,c] = [p,q,r]/count\n",
    "    \n",
    "print(centers)    "
   ]
  }
 ],
 "metadata": {
  "kernelspec": {
   "display_name": "Python 3",
   "language": "python",
   "name": "python3"
  },
  "language_info": {
   "codemirror_mode": {
    "name": "ipython",
    "version": 3
   },
   "file_extension": ".py",
   "mimetype": "text/x-python",
   "name": "python",
   "nbconvert_exporter": "python",
   "pygments_lexer": "ipython3",
   "version": "3.6.6"
  }
 },
 "nbformat": 4,
 "nbformat_minor": 2
}
